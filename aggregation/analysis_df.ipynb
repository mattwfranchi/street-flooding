{
 "cells": [
  {
   "cell_type": "code",
   "execution_count": null,
   "metadata": {},
   "outputs": [],
   "source": []
  },
  {
   "cell_type": "code",
   "execution_count": 82,
   "metadata": {},
   "outputs": [
    {
     "name": "stderr",
     "output_type": "stream",
     "text": [
      "\u001b[34m2024-10-22 19:50:26 - analysis-df-assembly - INFO - Modules loaded.\u001b[0m\n"
     ]
    }
   ],
   "source": [
    "import pandas as pd \n",
    "import geopandas as gpd \n",
    "import numpy as np \n",
    "import json \n",
    "from glob import glob \n",
    "\n",
    "import sys \n",
    "sys.path.append(\"../\")\n",
    "from logger import setup_logger\n",
    "logger = setup_logger(\"analysis-df-assembly\")\n",
    "logger.setLevel(\"INFO\")\n",
    "\n",
    "import os \n",
    "\n",
    "logger.info(\"Modules loaded.\")\n",
    "\n"
   ]
  },
  {
   "cell_type": "code",
   "execution_count": 83,
   "metadata": {},
   "outputs": [],
   "source": [
    "ICAR_NONE_RUN='../runs/icar_none/simulated_False/ahl_True/20241021-1038'\n",
    "ICAR_CHEATING_RUN='../runs/icar_cheating/simulated_False/ahl_True/20241022-1130'"
   ]
  },
  {
   "cell_type": "code",
   "execution_count": 84,
   "metadata": {},
   "outputs": [
    {
     "name": "stderr",
     "output_type": "stream",
     "text": [
      "\u001b[34m2024-10-22 19:50:26 - analysis-df-assembly - INFO - Found 2 ICAR_NONE estimates and 3 ICAR_CHEATING estimates.\u001b[0m\n"
     ]
    }
   ],
   "source": [
    "ICAR_NONE_ESTIMATES = glob(f\"{ICAR_NONE_RUN}/estimate*.csv\")\n",
    "ICAR_CHEATING_ESTIMATES = glob(f\"{ICAR_CHEATING_RUN}/estimate*.csv\")\n",
    "logger.info(f\"Found {len(ICAR_NONE_ESTIMATES)} ICAR_NONE estimates and {len(ICAR_CHEATING_ESTIMATES)} ICAR_CHEATING estimates.\")"
   ]
  },
  {
   "cell_type": "code",
   "execution_count": 85,
   "metadata": {},
   "outputs": [],
   "source": [
    "icar_cheating_estimates = {} \n",
    "for f in ICAR_CHEATING_ESTIMATES:\n",
    "    df = pd.read_csv(f)\n",
    "    df['tract_id'] = df['tract_id'].astype(int).astype(str)\n",
    "    icar_cheating_estimates[os.path.splitext(os.path.basename(f))[0]] = df\n"
   ]
  },
  {
   "cell_type": "code",
   "execution_count": 86,
   "metadata": {},
   "outputs": [
    {
     "data": {
      "text/plain": [
       "{'estimate_at_least_one_positive_image_by_area':          tract_id  empirical_estimate  at_least_one_positive_image_by_area  \\\n",
       " 0     36061000100                 NaN                             0.000000   \n",
       " 1     36061000201            0.000000                             0.548568   \n",
       " 2     36061000600            0.002367                             1.000000   \n",
       " 3     36061001401            0.000000                             0.352224   \n",
       " 4     36061001402            0.000000                             0.758596   \n",
       " ...           ...                 ...                                  ...   \n",
       " 2322  36085017600            0.000000                             0.183523   \n",
       " 2323  36085022802            0.004902                             0.409292   \n",
       " 2324  36085029102            0.000000                             0.901318   \n",
       " 2325  36005016100            0.000000                             0.472381   \n",
       " 2326  36005016300            0.008000                             0.273413   \n",
       " \n",
       "       at_least_one_positive_image_by_area_CI_lower  \\\n",
       " 0                                         0.000000   \n",
       " 1                                         0.258224   \n",
       " 2                                         1.000000   \n",
       " 3                                         0.159450   \n",
       " 4                                         0.440340   \n",
       " ...                                            ...   \n",
       " 2322                                      0.074488   \n",
       " 2323                                      0.200562   \n",
       " 2324                                      0.667079   \n",
       " 2325                                      0.229520   \n",
       " 2326                                      0.126551   \n",
       " \n",
       "       at_least_one_positive_image_by_area_CI_upper  n_images_by_area  \n",
       " 0                                         0.000000                 0  \n",
       " 1                                         0.868888               320  \n",
       " 2                                         1.000000               845  \n",
       " 3                                         0.622002               182  \n",
       " 4                                         0.979171               771  \n",
       " ...                                            ...               ...  \n",
       " 2322                                      0.364807                76  \n",
       " 2323                                      0.682185               204  \n",
       " 2324                                      0.998101              1264  \n",
       " 2325                                      0.770256               264  \n",
       " 2326                                      0.489982               125  \n",
       " \n",
       " [2327 rows x 6 columns],\n",
       " 'estimate_p_y':          tract_id  empirical_estimate       p_y  p_y_CI_lower  p_y_CI_upper  \\\n",
       " 0     36061000100                 NaN  0.004357      0.000315      0.019329   \n",
       " 1     36061000201            0.000000  0.002747      0.000933      0.006329   \n",
       " 2     36061000600            0.002367  0.003491      0.001280      0.007621   \n",
       " 3     36061001401            0.000000  0.002494      0.000954      0.005331   \n",
       " 4     36061001402            0.000000  0.002184      0.000753      0.005009   \n",
       " ...           ...                 ...       ...           ...           ...   \n",
       " 2322  36085017600            0.000000  0.002724      0.001018      0.005954   \n",
       " 2323  36085022802            0.004902  0.002706      0.001097      0.005603   \n",
       " 2324  36085029102            0.000000  0.002288      0.000870      0.004945   \n",
       " 2325  36005016100            0.000000  0.002583      0.000987      0.005556   \n",
       " 2326  36005016300            0.008000  0.002626      0.001082      0.005372   \n",
       " \n",
       "       n_images_by_area  \n",
       " 0                    0  \n",
       " 1                  320  \n",
       " 2                  845  \n",
       " 3                  182  \n",
       " 4                  771  \n",
       " ...                ...  \n",
       " 2322                76  \n",
       " 2323               204  \n",
       " 2324              1264  \n",
       " 2325               264  \n",
       " 2326               125  \n",
       " \n",
       " [2327 rows x 6 columns],\n",
       " 'estimate_at_least_one_positive_image_by_area_if_you_have_100_images':          tract_id  empirical_estimate  \\\n",
       " 0     36061000100                 NaN   \n",
       " 1     36061000201            0.000000   \n",
       " 2     36061000600            0.002367   \n",
       " 3     36061001401            0.000000   \n",
       " 4     36061001402            0.000000   \n",
       " ...           ...                 ...   \n",
       " 2322  36085017600            0.000000   \n",
       " 2323  36085022802            0.004902   \n",
       " 2324  36085029102            0.000000   \n",
       " 2325  36005016100            0.000000   \n",
       " 2326  36005016300            0.008000   \n",
       " \n",
       "       at_least_one_positive_image_by_area_if_you_have_100_images  \\\n",
       " 0                                              0.288467            \n",
       " 1                                              0.233284            \n",
       " 2                                              1.000000            \n",
       " 3                                              0.216004            \n",
       " 4                                              0.191671            \n",
       " ...                                                 ...            \n",
       " 2322                                           0.232769            \n",
       " 2323                                           0.232319            \n",
       " 2324                                           0.200448            \n",
       " 2325                                           0.222727            \n",
       " 2326                                           0.226595            \n",
       " \n",
       "       at_least_one_positive_image_by_area_if_you_have_100_images_CI_lower  \\\n",
       " 0                                              0.030997                     \n",
       " 1                                              0.089122                     \n",
       " 2                                              1.000000                     \n",
       " 3                                              0.091026                     \n",
       " 4                                              0.072518                     \n",
       " ...                                                 ...                     \n",
       " 2322                                           0.096838                     \n",
       " 2323                                           0.103923                     \n",
       " 2324                                           0.083335                     \n",
       " 2325                                           0.094045                     \n",
       " 2326                                           0.102592                     \n",
       " \n",
       "       at_least_one_positive_image_by_area_if_you_have_100_images_CI_upper  \\\n",
       " 0                                              0.857979                     \n",
       " 1                                              0.470015                     \n",
       " 2                                              1.000000                     \n",
       " 3                                              0.414063                     \n",
       " 4                                              0.394760                     \n",
       " ...                                                 ...                     \n",
       " 2322                                           0.449617                     \n",
       " 2323                                           0.429878                     \n",
       " 2324                                           0.390884                     \n",
       " 2325                                           0.427142                     \n",
       " 2326                                           0.416463                     \n",
       " \n",
       "       n_images_by_area  \n",
       " 0                    0  \n",
       " 1                  320  \n",
       " 2                  845  \n",
       " 3                  182  \n",
       " 4                  771  \n",
       " ...                ...  \n",
       " 2322                76  \n",
       " 2323               204  \n",
       " 2324              1264  \n",
       " 2325               264  \n",
       " 2326               125  \n",
       " \n",
       " [2327 rows x 6 columns]}"
      ]
     },
     "execution_count": 86,
     "metadata": {},
     "output_type": "execute_result"
    }
   ],
   "source": [
    "icar_cheating_estimates"
   ]
  },
  {
   "cell_type": "code",
   "execution_count": 87,
   "metadata": {},
   "outputs": [],
   "source": [
    "icar_none_estimates = {} \n",
    "for f in ICAR_NONE_ESTIMATES:\n",
    "    df = pd.read_csv(f)\n",
    "    df['tract_id'] = df['tract_id'].astype(int).astype(str)\n",
    "    icar_none_estimates[os.path.splitext(os.path.basename(f)[0])] = df\n",
    "    "
   ]
  },
  {
   "cell_type": "code",
   "execution_count": 88,
   "metadata": {},
   "outputs": [
    {
     "name": "stderr",
     "output_type": "stream",
     "text": [
      "\u001b[34m2024-10-22 19:50:26 - analysis-df-assembly - INFO - Using smoothed estimates.\u001b[0m\n"
     ]
    }
   ],
   "source": [
    "USE_SMOOTHING = True \n",
    "if USE_SMOOTHING: \n",
    "    icar_model_estimates = icar_cheating_estimates\n",
    "    logger.info(\"Using smoothed estimates.\")\n",
    "else:\n",
    "    icar_model_estimates = icar_none_estimates\n",
    "    logger.info(\"Using unsmoothed estimates.\")"
   ]
  },
  {
   "cell_type": "code",
   "execution_count": 89,
   "metadata": {},
   "outputs": [
    {
     "name": "stderr",
     "output_type": "stream",
     "text": [
      "\u001b[34m2024-10-22 19:50:26 - analysis-df-assembly - INFO - Loaded NYC CT shapefile with 2325 CTs.\u001b[0m\n"
     ]
    }
   ],
   "source": [
    "ct_nyc = gpd.read_file('geo/data/ct-nyc-wi-2020.geojson')\n",
    "logger.info(f\"Loaded NYC CT shapefile with {len(ct_nyc.index)} CTs.\")"
   ]
  },
  {
   "cell_type": "code",
   "execution_count": 90,
   "metadata": {},
   "outputs": [
    {
     "name": "stderr",
     "output_type": "stream",
     "text": [
      "\u001b[34m2024-10-22 19:50:26 - analysis-df-assembly - INFO - Loaded NYC CT (water clipped) shapefile with 2327 CTs.\u001b[0m\n"
     ]
    }
   ],
   "source": [
    "ct_nyc_clip = gpd.read_file('geo/data/ct-nyc-2020.geojson')\n",
    "logger.info(f\"Loaded NYC CT (water clipped) shapefile with {len(ct_nyc_clip.index)} CTs.\")"
   ]
  },
  {
   "cell_type": "code",
   "execution_count": 91,
   "metadata": {},
   "outputs": [
    {
     "name": "stderr",
     "output_type": "stream",
     "text": [
      "\u001b[34m2024-10-22 19:50:26 - analysis-df-assembly - INFO - Merged NYC CT shapefile with icar model estimates.\u001b[0m\n"
     ]
    }
   ],
   "source": [
    "ct_nyc = ct_nyc.merge(icar_model_estimates['estimate_p_y'], left_on='GEOID', right_on='tract_id', suffixes=('_ct', '_p_y'))\n",
    "ct_nyc = ct_nyc.merge(icar_model_estimates['estimate_at_least_one_positive_image_by_area'], left_on='GEOID', right_on='tract_id', suffixes=('_ct', '_p_alop'))\n",
    "ct_nyc = ct_nyc.merge(icar_model_estimates['estimate_at_least_one_positive_image_by_area_if_you_have_100_images'], left_on='GEOID', right_on='tract_id', suffixes=('_ct', '_p_alop_100'))\n",
    "logger.info(f\"Merged NYC CT shapefile with icar model estimates.\")"
   ]
  },
  {
   "cell_type": "code",
   "execution_count": null,
   "metadata": {},
   "outputs": [],
   "source": []
  },
  {
   "cell_type": "code",
   "execution_count": null,
   "metadata": {},
   "outputs": [],
   "source": []
  }
 ],
 "metadata": {
  "kernelspec": {
   "display_name": "Python 3",
   "language": "python",
   "name": "python3"
  },
  "language_info": {
   "codemirror_mode": {
    "name": "ipython",
    "version": 3
   },
   "file_extension": ".py",
   "mimetype": "text/x-python",
   "name": "python",
   "nbconvert_exporter": "python",
   "pygments_lexer": "ipython3",
   "version": "3.12.7"
  }
 },
 "nbformat": 4,
 "nbformat_minor": 2
}
