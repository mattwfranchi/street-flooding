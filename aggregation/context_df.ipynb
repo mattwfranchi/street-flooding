{
 "cells": [
  {
   "cell_type": "code",
   "execution_count": 41,
   "metadata": {},
   "outputs": [
    {
     "name": "stderr",
     "output_type": "stream",
     "text": [
      "\u001b[34m2025-02-05 12:13:12 - context-df-assembly - INFO - Modules loaded.\u001b[0m\n"
     ]
    }
   ],
   "source": [
    "import pandas as pd \n",
    "import geopandas as gpd \n",
    "from shapely import wkt \n",
    "import numpy as np \n",
    "import json \n",
    "from glob import glob \n",
    "\n",
    "import sys \n",
    "sys.path.append(\"../\")\n",
    "from logger import setup_logger\n",
    "logger = setup_logger(\"context-df-assembly\")\n",
    "logger.setLevel(\"INFO\")\n",
    "\n",
    "WGS='EPSG:4326'\n",
    "PROJ='EPSG:2263'\n",
    "\n",
    "import os \n",
    "\n",
    "logger.info(\"Modules loaded.\")\n",
    "\n"
   ]
  },
  {
   "cell_type": "code",
   "execution_count": 42,
   "metadata": {},
   "outputs": [],
   "source": [
    "LOAD_MODEL_FITTING_DATA = True"
   ]
  },
  {
   "cell_type": "code",
   "execution_count": 43,
   "metadata": {},
   "outputs": [
    {
     "name": "stderr",
     "output_type": "stream",
     "text": [
      "\u001b[34m2025-02-05 12:13:13 - context-df-assembly - INFO - Loaded NYC CT shapefile with water areas included, 2325 CTs.\u001b[0m\n"
     ]
    }
   ],
   "source": [
    "ct_nyc = gpd.read_file('geo/data/ct-nyc-2020.geojson')\n",
    "\n",
    "\n",
    "TO_DROP = ['OBJECTID','BoroCode','CT2020','CDEligibil','NTA2020','CDTA2020','Shape__Area','Shape__Length','geometry']\n",
    "ct_nyc.drop(columns=TO_DROP, inplace=True)\n",
    "\n",
    "ct_nyc = ct_nyc.set_index('GEOID').astype(str)\n",
    "logger.info(f\"Loaded NYC CT shapefile with water areas included, {len(ct_nyc.index)} CTs.\")"
   ]
  },
  {
   "cell_type": "code",
   "execution_count": 44,
   "metadata": {},
   "outputs": [
    {
     "name": "stderr",
     "output_type": "stream",
     "text": [
      "\u001b[34m2025-02-05 12:13:13 - context-df-assembly - INFO - Loading data used for ICAR model training.\u001b[0m\n"
     ]
    }
   ],
   "source": [
    "if LOAD_MODEL_FITTING_DATA: \n",
    "    logger.info(\"Loading data used for ICAR model training.\")\n",
    "    icar_data = pd.read_csv('../data/processed/flooding_ct_dataset.csv')\n",
    "    icar_data['GEOID'] = icar_data['GEOID'].astype(str)\n",
    "\n",
    "    TO_DROP = ['CTLabel','CDTANAME','BoroName','BoroCode','CT2020','BoroCT2020','CDEligibil','NTAName','PUMA','geometry']\n",
    "    icar_data.drop(columns=TO_DROP, inplace=True)\n",
    "\n",
    "    ct_nyc = ct_nyc.join(icar_data.set_index('GEOID'))\n",
    "    "
   ]
  },
  {
   "cell_type": "code",
   "execution_count": 45,
   "metadata": {},
   "outputs": [],
   "source": [
    "def parse_md(md):\n",
    "    md = pd.json_normalize(md['variables']).set_index(md.index)\n",
    "\n",
    "    min_sep = min(md['label'].apply(lambda x: x.count('!!')))\n",
    "    max_sep = max(md['label'].apply(lambda x: x.count('!!')))\n",
    "\n",
    "    for i in range(min_sep + 1, max_sep + 2):  # Adjusting range to account for correct indexing\n",
    "        md[f'desc_{i}'] = md['label'].apply(\n",
    "            lambda x: x.split('!!')[i-1] if len(x.split('!!')) >= i else None\n",
    "        )\n",
    "    \n",
    "    TO_DROP = ['label','concept','predicateType','group','limit','predicateOnly']\n",
    "    md = md.drop(columns=TO_DROP)\n",
    "\n",
    "    desc_1_filter = ['Estimate']\n",
    "    md = md[md['desc_1'].isin(desc_1_filter)]\n",
    "\n",
    "    md = md.sort_index()\n",
    "\n",
    "    return md"
   ]
  },
  {
   "cell_type": "code",
   "execution_count": 46,
   "metadata": {},
   "outputs": [],
   "source": [
    "def parse_acs(acs, cols: dict):\n",
    "\n",
    "    acs.columns = acs.iloc[0]\n",
    "    acs = acs[1:]\n",
    "    acs['tract_id'] = acs['GEO_ID'].str.split('US', expand=True)[1]\n",
    "    acs = acs.set_index('tract_id')\n",
    "\n",
    "    acs = acs[list(cols.keys())]\n",
    "    acs.columns = acs.columns.map(lambda x: cols[x])\n",
    "\n",
    "    acs = acs.astype(int)\n",
    "    return acs"
   ]
  },
  {
   "cell_type": "code",
   "execution_count": 47,
   "metadata": {},
   "outputs": [],
   "source": [
    "# Load data\n",
    "dp05_nyc_md = pd.read_json('demo/data/acs22_dp05_md.json')\n",
    "# Parse metadata\n",
    "dp05_nyc_md = parse_md(dp05_nyc_md)\n",
    "# to csv \n",
    "dp05_nyc_md.to_csv('demo/data/acs22_dp05_md.csv')\n",
    "\n"
   ]
  },
  {
   "cell_type": "code",
   "execution_count": 48,
   "metadata": {},
   "outputs": [
    {
     "name": "stderr",
     "output_type": "stream",
     "text": [
      "/tmp/ipykernel_2512670/4253230726.py:5: SettingWithCopyWarning: \n",
      "A value is trying to be set on a copy of a slice from a DataFrame.\n",
      "Try using .loc[row_indexer,col_indexer] = value instead\n",
      "\n",
      "See the caveats in the documentation: https://pandas.pydata.org/pandas-docs/stable/user_guide/indexing.html#returning-a-view-versus-a-copy\n",
      "  acs['tract_id'] = acs['GEO_ID'].str.split('US', expand=True)[1]\n"
     ]
    },
    {
     "data": {
      "text/html": [
       "<div>\n",
       "<style scoped>\n",
       "    .dataframe tbody tr th:only-of-type {\n",
       "        vertical-align: middle;\n",
       "    }\n",
       "\n",
       "    .dataframe tbody tr th {\n",
       "        vertical-align: top;\n",
       "    }\n",
       "\n",
       "    .dataframe thead th {\n",
       "        text-align: right;\n",
       "    }\n",
       "</style>\n",
       "<table border=\"1\" class=\"dataframe\">\n",
       "  <thead>\n",
       "    <tr style=\"text-align: right;\">\n",
       "      <th></th>\n",
       "      <th>total_population</th>\n",
       "      <th>nhl_white_alone</th>\n",
       "      <th>nhl_black_alone</th>\n",
       "      <th>hispanic_alone</th>\n",
       "      <th>nhl_asian_alone</th>\n",
       "    </tr>\n",
       "    <tr>\n",
       "      <th>tract_id</th>\n",
       "      <th></th>\n",
       "      <th></th>\n",
       "      <th></th>\n",
       "      <th></th>\n",
       "      <th></th>\n",
       "    </tr>\n",
       "  </thead>\n",
       "  <tbody>\n",
       "    <tr>\n",
       "      <th>36005000100</th>\n",
       "      <td>4446</td>\n",
       "      <td>1098</td>\n",
       "      <td>2000</td>\n",
       "      <td>1172</td>\n",
       "      <td>123</td>\n",
       "    </tr>\n",
       "    <tr>\n",
       "      <th>36005000200</th>\n",
       "      <td>4870</td>\n",
       "      <td>83</td>\n",
       "      <td>1281</td>\n",
       "      <td>3109</td>\n",
       "      <td>299</td>\n",
       "    </tr>\n",
       "    <tr>\n",
       "      <th>36005000400</th>\n",
       "      <td>6257</td>\n",
       "      <td>283</td>\n",
       "      <td>1559</td>\n",
       "      <td>4212</td>\n",
       "      <td>103</td>\n",
       "    </tr>\n",
       "    <tr>\n",
       "      <th>36005001600</th>\n",
       "      <td>6177</td>\n",
       "      <td>106</td>\n",
       "      <td>2132</td>\n",
       "      <td>3507</td>\n",
       "      <td>148</td>\n",
       "    </tr>\n",
       "    <tr>\n",
       "      <th>36005001901</th>\n",
       "      <td>2181</td>\n",
       "      <td>306</td>\n",
       "      <td>942</td>\n",
       "      <td>842</td>\n",
       "      <td>0</td>\n",
       "    </tr>\n",
       "    <tr>\n",
       "      <th>...</th>\n",
       "      <td>...</td>\n",
       "      <td>...</td>\n",
       "      <td>...</td>\n",
       "      <td>...</td>\n",
       "      <td>...</td>\n",
       "    </tr>\n",
       "    <tr>\n",
       "      <th>36085030302</th>\n",
       "      <td>6374</td>\n",
       "      <td>2209</td>\n",
       "      <td>1568</td>\n",
       "      <td>1625</td>\n",
       "      <td>918</td>\n",
       "    </tr>\n",
       "    <tr>\n",
       "      <th>36085031901</th>\n",
       "      <td>3674</td>\n",
       "      <td>289</td>\n",
       "      <td>1626</td>\n",
       "      <td>1469</td>\n",
       "      <td>224</td>\n",
       "    </tr>\n",
       "    <tr>\n",
       "      <th>36085031902</th>\n",
       "      <td>5053</td>\n",
       "      <td>473</td>\n",
       "      <td>2388</td>\n",
       "      <td>1913</td>\n",
       "      <td>217</td>\n",
       "    </tr>\n",
       "    <tr>\n",
       "      <th>36085032300</th>\n",
       "      <td>1133</td>\n",
       "      <td>109</td>\n",
       "      <td>421</td>\n",
       "      <td>394</td>\n",
       "      <td>21</td>\n",
       "    </tr>\n",
       "    <tr>\n",
       "      <th>36085990100</th>\n",
       "      <td>0</td>\n",
       "      <td>0</td>\n",
       "      <td>0</td>\n",
       "      <td>0</td>\n",
       "      <td>0</td>\n",
       "    </tr>\n",
       "  </tbody>\n",
       "</table>\n",
       "<p>2327 rows × 5 columns</p>\n",
       "</div>"
      ],
      "text/plain": [
       "0            total_population  nhl_white_alone  nhl_black_alone  \\\n",
       "tract_id                                                          \n",
       "36005000100              4446             1098             2000   \n",
       "36005000200              4870               83             1281   \n",
       "36005000400              6257              283             1559   \n",
       "36005001600              6177              106             2132   \n",
       "36005001901              2181              306              942   \n",
       "...                       ...              ...              ...   \n",
       "36085030302              6374             2209             1568   \n",
       "36085031901              3674              289             1626   \n",
       "36085031902              5053              473             2388   \n",
       "36085032300              1133              109              421   \n",
       "36085990100                 0                0                0   \n",
       "\n",
       "0            hispanic_alone  nhl_asian_alone  \n",
       "tract_id                                      \n",
       "36005000100            1172              123  \n",
       "36005000200            3109              299  \n",
       "36005000400            4212              103  \n",
       "36005001600            3507              148  \n",
       "36005001901             842                0  \n",
       "...                     ...              ...  \n",
       "36085030302            1625              918  \n",
       "36085031901            1469              224  \n",
       "36085031902            1913              217  \n",
       "36085032300             394               21  \n",
       "36085990100               0                0  \n",
       "\n",
       "[2327 rows x 5 columns]"
      ]
     },
     "execution_count": 48,
     "metadata": {},
     "output_type": "execute_result"
    }
   ],
   "source": [
    "dp05_nyc = pd.read_json('demo/data/acs22_dp05.json', orient='records')\n",
    "\n",
    "RACE_COLS = {\n",
    "    'DP05_0001E': 'total_population',\n",
    "    'DP05_0079E': 'nhl_white_alone', \n",
    "    'DP05_0080E': 'nhl_black_alone', \n",
    "    'DP05_0073E': 'hispanic_alone', \n",
    "    'DP05_0082E': 'nhl_asian_alone'\n",
    "}\n",
    "\n",
    "race_nyc = parse_acs(dp05_nyc, RACE_COLS)\n",
    "race_nyc\n",
    "\n"
   ]
  },
  {
   "cell_type": "code",
   "execution_count": 49,
   "metadata": {},
   "outputs": [],
   "source": [
    "ct_nyc = ct_nyc.merge(race_nyc, left_index=True, right_index=True)  "
   ]
  },
  {
   "cell_type": "code",
   "execution_count": 50,
   "metadata": {},
   "outputs": [],
   "source": [
    "# Load data\n",
    "s2801_nyc_md = pd.read_json('demo/data/acs22_s2801_md.json')\n",
    "\n",
    "# Parse metadata\n",
    "s2801_nyc_md = parse_md(s2801_nyc_md)\n",
    "\n",
    "# to csv \n",
    "s2801_nyc_md.to_csv('demo/data/acs22_s2801_md.csv')"
   ]
  },
  {
   "cell_type": "code",
   "execution_count": 51,
   "metadata": {},
   "outputs": [
    {
     "name": "stderr",
     "output_type": "stream",
     "text": [
      "/tmp/ipykernel_2512670/4253230726.py:5: SettingWithCopyWarning: \n",
      "A value is trying to be set on a copy of a slice from a DataFrame.\n",
      "Try using .loc[row_indexer,col_indexer] = value instead\n",
      "\n",
      "See the caveats in the documentation: https://pandas.pydata.org/pandas-docs/stable/user_guide/indexing.html#returning-a-view-versus-a-copy\n",
      "  acs['tract_id'] = acs['GEO_ID'].str.split('US', expand=True)[1]\n"
     ]
    },
    {
     "data": {
      "text/html": [
       "<div>\n",
       "<style scoped>\n",
       "    .dataframe tbody tr th:only-of-type {\n",
       "        vertical-align: middle;\n",
       "    }\n",
       "\n",
       "    .dataframe tbody tr th {\n",
       "        vertical-align: top;\n",
       "    }\n",
       "\n",
       "    .dataframe thead th {\n",
       "        text-align: right;\n",
       "    }\n",
       "</style>\n",
       "<table border=\"1\" class=\"dataframe\">\n",
       "  <thead>\n",
       "    <tr style=\"text-align: right;\">\n",
       "      <th></th>\n",
       "      <th>total_households</th>\n",
       "      <th>num_households_with_internet</th>\n",
       "      <th>num_households_with_smartphone</th>\n",
       "    </tr>\n",
       "    <tr>\n",
       "      <th>tract_id</th>\n",
       "      <th></th>\n",
       "      <th></th>\n",
       "      <th></th>\n",
       "    </tr>\n",
       "  </thead>\n",
       "  <tbody>\n",
       "    <tr>\n",
       "      <th>36005000100</th>\n",
       "      <td>0</td>\n",
       "      <td>0</td>\n",
       "      <td>0</td>\n",
       "    </tr>\n",
       "    <tr>\n",
       "      <th>36005000200</th>\n",
       "      <td>1425</td>\n",
       "      <td>1251</td>\n",
       "      <td>1384</td>\n",
       "    </tr>\n",
       "    <tr>\n",
       "      <th>36005000400</th>\n",
       "      <td>2309</td>\n",
       "      <td>2264</td>\n",
       "      <td>2148</td>\n",
       "    </tr>\n",
       "    <tr>\n",
       "      <th>36005001600</th>\n",
       "      <td>2205</td>\n",
       "      <td>1843</td>\n",
       "      <td>2035</td>\n",
       "    </tr>\n",
       "    <tr>\n",
       "      <th>36005001901</th>\n",
       "      <td>940</td>\n",
       "      <td>825</td>\n",
       "      <td>924</td>\n",
       "    </tr>\n",
       "    <tr>\n",
       "      <th>...</th>\n",
       "      <td>...</td>\n",
       "      <td>...</td>\n",
       "      <td>...</td>\n",
       "    </tr>\n",
       "    <tr>\n",
       "      <th>36085030302</th>\n",
       "      <td>2075</td>\n",
       "      <td>1994</td>\n",
       "      <td>2029</td>\n",
       "    </tr>\n",
       "    <tr>\n",
       "      <th>36085031901</th>\n",
       "      <td>1188</td>\n",
       "      <td>885</td>\n",
       "      <td>1078</td>\n",
       "    </tr>\n",
       "    <tr>\n",
       "      <th>36085031902</th>\n",
       "      <td>1585</td>\n",
       "      <td>1294</td>\n",
       "      <td>1445</td>\n",
       "    </tr>\n",
       "    <tr>\n",
       "      <th>36085032300</th>\n",
       "      <td>425</td>\n",
       "      <td>334</td>\n",
       "      <td>365</td>\n",
       "    </tr>\n",
       "    <tr>\n",
       "      <th>36085990100</th>\n",
       "      <td>0</td>\n",
       "      <td>0</td>\n",
       "      <td>0</td>\n",
       "    </tr>\n",
       "  </tbody>\n",
       "</table>\n",
       "<p>2327 rows × 3 columns</p>\n",
       "</div>"
      ],
      "text/plain": [
       "0            total_households  num_households_with_internet  \\\n",
       "tract_id                                                      \n",
       "36005000100                 0                             0   \n",
       "36005000200              1425                          1251   \n",
       "36005000400              2309                          2264   \n",
       "36005001600              2205                          1843   \n",
       "36005001901               940                           825   \n",
       "...                       ...                           ...   \n",
       "36085030302              2075                          1994   \n",
       "36085031901              1188                           885   \n",
       "36085031902              1585                          1294   \n",
       "36085032300               425                           334   \n",
       "36085990100                 0                             0   \n",
       "\n",
       "0            num_households_with_smartphone  \n",
       "tract_id                                     \n",
       "36005000100                               0  \n",
       "36005000200                            1384  \n",
       "36005000400                            2148  \n",
       "36005001600                            2035  \n",
       "36005001901                             924  \n",
       "...                                     ...  \n",
       "36085030302                            2029  \n",
       "36085031901                            1078  \n",
       "36085031902                            1445  \n",
       "36085032300                             365  \n",
       "36085990100                               0  \n",
       "\n",
       "[2327 rows x 3 columns]"
      ]
     },
     "execution_count": 51,
     "metadata": {},
     "output_type": "execute_result"
    }
   ],
   "source": [
    "s2801_nyc = pd.read_json('demo/data/acs22_s2801.json', orient='records')\n",
    "\n",
    "INTERNET_ACCESS_COLS = { \n",
    "    'S2801_C01_001E': 'total_households',\n",
    "    'S2801_C01_012E': 'num_households_with_internet',\n",
    "    'S2801_C01_005E': 'num_households_with_smartphone'\n",
    "}\n",
    "\n",
    "internet_access_nyc = parse_acs(s2801_nyc, INTERNET_ACCESS_COLS)\n",
    "internet_access_nyc"
   ]
  },
  {
   "cell_type": "code",
   "execution_count": 52,
   "metadata": {},
   "outputs": [],
   "source": [
    "ct_nyc = ct_nyc.join(internet_access_nyc)"
   ]
  },
  {
   "cell_type": "code",
   "execution_count": 53,
   "metadata": {},
   "outputs": [],
   "source": [
    "s1901_nyc_md = pd.read_json('demo/data/acs22_s1901_md.json')\n",
    "\n",
    "s1901_nyc_md = parse_md(s1901_nyc_md)\n",
    "\n",
    "s1901_nyc_md.to_csv('demo/data/acs22_s1901_md.csv')"
   ]
  },
  {
   "cell_type": "code",
   "execution_count": 54,
   "metadata": {},
   "outputs": [
    {
     "name": "stderr",
     "output_type": "stream",
     "text": [
      "/tmp/ipykernel_2512670/4253230726.py:5: SettingWithCopyWarning: \n",
      "A value is trying to be set on a copy of a slice from a DataFrame.\n",
      "Try using .loc[row_indexer,col_indexer] = value instead\n",
      "\n",
      "See the caveats in the documentation: https://pandas.pydata.org/pandas-docs/stable/user_guide/indexing.html#returning-a-view-versus-a-copy\n",
      "  acs['tract_id'] = acs['GEO_ID'].str.split('US', expand=True)[1]\n"
     ]
    },
    {
     "data": {
      "text/html": [
       "<div>\n",
       "<style scoped>\n",
       "    .dataframe tbody tr th:only-of-type {\n",
       "        vertical-align: middle;\n",
       "    }\n",
       "\n",
       "    .dataframe tbody tr th {\n",
       "        vertical-align: top;\n",
       "    }\n",
       "\n",
       "    .dataframe thead th {\n",
       "        text-align: right;\n",
       "    }\n",
       "</style>\n",
       "<table border=\"1\" class=\"dataframe\">\n",
       "  <thead>\n",
       "    <tr style=\"text-align: right;\">\n",
       "      <th></th>\n",
       "      <th>median_household_income</th>\n",
       "    </tr>\n",
       "    <tr>\n",
       "      <th>tract_id</th>\n",
       "      <th></th>\n",
       "    </tr>\n",
       "  </thead>\n",
       "  <tbody>\n",
       "    <tr>\n",
       "      <th>36005000100</th>\n",
       "      <td>-666666666</td>\n",
       "    </tr>\n",
       "    <tr>\n",
       "      <th>36005000200</th>\n",
       "      <td>115064</td>\n",
       "    </tr>\n",
       "    <tr>\n",
       "      <th>36005000400</th>\n",
       "      <td>100553</td>\n",
       "    </tr>\n",
       "    <tr>\n",
       "      <th>36005001600</th>\n",
       "      <td>41362</td>\n",
       "    </tr>\n",
       "    <tr>\n",
       "      <th>36005001901</th>\n",
       "      <td>49500</td>\n",
       "    </tr>\n",
       "    <tr>\n",
       "      <th>...</th>\n",
       "      <td>...</td>\n",
       "    </tr>\n",
       "    <tr>\n",
       "      <th>36085030302</th>\n",
       "      <td>98535</td>\n",
       "    </tr>\n",
       "    <tr>\n",
       "      <th>36085031901</th>\n",
       "      <td>45942</td>\n",
       "    </tr>\n",
       "    <tr>\n",
       "      <th>36085031902</th>\n",
       "      <td>75057</td>\n",
       "    </tr>\n",
       "    <tr>\n",
       "      <th>36085032300</th>\n",
       "      <td>88558</td>\n",
       "    </tr>\n",
       "    <tr>\n",
       "      <th>36085990100</th>\n",
       "      <td>-666666666</td>\n",
       "    </tr>\n",
       "  </tbody>\n",
       "</table>\n",
       "<p>2327 rows × 1 columns</p>\n",
       "</div>"
      ],
      "text/plain": [
       "0            median_household_income\n",
       "tract_id                            \n",
       "36005000100               -666666666\n",
       "36005000200                   115064\n",
       "36005000400                   100553\n",
       "36005001600                    41362\n",
       "36005001901                    49500\n",
       "...                              ...\n",
       "36085030302                    98535\n",
       "36085031901                    45942\n",
       "36085031902                    75057\n",
       "36085032300                    88558\n",
       "36085990100               -666666666\n",
       "\n",
       "[2327 rows x 1 columns]"
      ]
     },
     "execution_count": 54,
     "metadata": {},
     "output_type": "execute_result"
    }
   ],
   "source": [
    "s1901_nyc = pd.read_json('demo/data/acs22_s1901.json', orient='records')\n",
    "\n",
    "\n",
    "INCOME_COLS = {\n",
    "    'S1901_C01_012E': 'median_household_income'\n",
    "}\n",
    "\n",
    "income_nyc = parse_acs(s1901_nyc, INCOME_COLS)\n",
    "\n",
    "income_nyc"
   ]
  },
  {
   "cell_type": "code",
   "execution_count": 55,
   "metadata": {},
   "outputs": [],
   "source": [
    "ct_nyc = ct_nyc.join(income_nyc)"
   ]
  },
  {
   "cell_type": "code",
   "execution_count": 56,
   "metadata": {},
   "outputs": [],
   "source": [
    "# Educational Attainment \n",
    "s1501_nyc_md = pd.read_json('demo/data/acs22_s1501_md.json')\n",
    "\n",
    "s1501_nyc_md = parse_md(s1501_nyc_md)\n",
    "\n",
    "s1501_nyc_md.to_csv('demo/data/acs22_s1501_md.csv')"
   ]
  },
  {
   "cell_type": "code",
   "execution_count": 57,
   "metadata": {},
   "outputs": [
    {
     "name": "stderr",
     "output_type": "stream",
     "text": [
      "/tmp/ipykernel_2512670/4253230726.py:5: SettingWithCopyWarning: \n",
      "A value is trying to be set on a copy of a slice from a DataFrame.\n",
      "Try using .loc[row_indexer,col_indexer] = value instead\n",
      "\n",
      "See the caveats in the documentation: https://pandas.pydata.org/pandas-docs/stable/user_guide/indexing.html#returning-a-view-versus-a-copy\n",
      "  acs['tract_id'] = acs['GEO_ID'].str.split('US', expand=True)[1]\n"
     ]
    },
    {
     "data": {
      "text/html": [
       "<div>\n",
       "<style scoped>\n",
       "    .dataframe tbody tr th:only-of-type {\n",
       "        vertical-align: middle;\n",
       "    }\n",
       "\n",
       "    .dataframe tbody tr th {\n",
       "        vertical-align: top;\n",
       "    }\n",
       "\n",
       "    .dataframe thead th {\n",
       "        text-align: right;\n",
       "    }\n",
       "</style>\n",
       "<table border=\"1\" class=\"dataframe\">\n",
       "  <thead>\n",
       "    <tr style=\"text-align: right;\">\n",
       "      <th></th>\n",
       "      <th>num_high_school_graduates</th>\n",
       "      <th>num_bachelors_degree</th>\n",
       "      <th>num_graduate_degree</th>\n",
       "    </tr>\n",
       "    <tr>\n",
       "      <th>tract_id</th>\n",
       "      <th></th>\n",
       "      <th></th>\n",
       "      <th></th>\n",
       "    </tr>\n",
       "  </thead>\n",
       "  <tbody>\n",
       "    <tr>\n",
       "      <th>36005000100</th>\n",
       "      <td>1835</td>\n",
       "      <td>34</td>\n",
       "      <td>41</td>\n",
       "    </tr>\n",
       "    <tr>\n",
       "      <th>36005000200</th>\n",
       "      <td>1089</td>\n",
       "      <td>489</td>\n",
       "      <td>671</td>\n",
       "    </tr>\n",
       "    <tr>\n",
       "      <th>36005000400</th>\n",
       "      <td>878</td>\n",
       "      <td>995</td>\n",
       "      <td>544</td>\n",
       "    </tr>\n",
       "    <tr>\n",
       "      <th>36005001600</th>\n",
       "      <td>1101</td>\n",
       "      <td>682</td>\n",
       "      <td>123</td>\n",
       "    </tr>\n",
       "    <tr>\n",
       "      <th>36005001901</th>\n",
       "      <td>408</td>\n",
       "      <td>283</td>\n",
       "      <td>164</td>\n",
       "    </tr>\n",
       "    <tr>\n",
       "      <th>...</th>\n",
       "      <td>...</td>\n",
       "      <td>...</td>\n",
       "      <td>...</td>\n",
       "    </tr>\n",
       "    <tr>\n",
       "      <th>36085030302</th>\n",
       "      <td>1357</td>\n",
       "      <td>1069</td>\n",
       "      <td>430</td>\n",
       "    </tr>\n",
       "    <tr>\n",
       "      <th>36085031901</th>\n",
       "      <td>549</td>\n",
       "      <td>185</td>\n",
       "      <td>175</td>\n",
       "    </tr>\n",
       "    <tr>\n",
       "      <th>36085031902</th>\n",
       "      <td>1020</td>\n",
       "      <td>677</td>\n",
       "      <td>241</td>\n",
       "    </tr>\n",
       "    <tr>\n",
       "      <th>36085032300</th>\n",
       "      <td>287</td>\n",
       "      <td>106</td>\n",
       "      <td>153</td>\n",
       "    </tr>\n",
       "    <tr>\n",
       "      <th>36085990100</th>\n",
       "      <td>0</td>\n",
       "      <td>0</td>\n",
       "      <td>0</td>\n",
       "    </tr>\n",
       "  </tbody>\n",
       "</table>\n",
       "<p>2327 rows × 3 columns</p>\n",
       "</div>"
      ],
      "text/plain": [
       "0            num_high_school_graduates  num_bachelors_degree  \\\n",
       "tract_id                                                       \n",
       "36005000100                       1835                    34   \n",
       "36005000200                       1089                   489   \n",
       "36005000400                        878                   995   \n",
       "36005001600                       1101                   682   \n",
       "36005001901                        408                   283   \n",
       "...                                ...                   ...   \n",
       "36085030302                       1357                  1069   \n",
       "36085031901                        549                   185   \n",
       "36085031902                       1020                   677   \n",
       "36085032300                        287                   106   \n",
       "36085990100                          0                     0   \n",
       "\n",
       "0            num_graduate_degree  \n",
       "tract_id                          \n",
       "36005000100                   41  \n",
       "36005000200                  671  \n",
       "36005000400                  544  \n",
       "36005001600                  123  \n",
       "36005001901                  164  \n",
       "...                          ...  \n",
       "36085030302                  430  \n",
       "36085031901                  175  \n",
       "36085031902                  241  \n",
       "36085032300                  153  \n",
       "36085990100                    0  \n",
       "\n",
       "[2327 rows x 3 columns]"
      ]
     },
     "execution_count": 57,
     "metadata": {},
     "output_type": "execute_result"
    }
   ],
   "source": [
    "s1501_nyc = pd.read_json('demo/data/acs22_s1501.json', orient='records')\n",
    "\n",
    "EDUCATION_COLS = {\n",
    "    'S1501_C01_009E': 'num_high_school_graduates',\n",
    "    'S1501_C01_012E': 'num_bachelors_degree',\n",
    "    'S1501_C01_013E': 'num_graduate_degree'\n",
    "}\n",
    "\n",
    "education_nyc = parse_acs(s1501_nyc, EDUCATION_COLS)\n",
    "education_nyc\n",
    "\n",
    "\n"
   ]
  },
  {
   "cell_type": "code",
   "execution_count": 58,
   "metadata": {},
   "outputs": [],
   "source": [
    "ct_nyc = ct_nyc.join(education_nyc)"
   ]
  },
  {
   "cell_type": "code",
   "execution_count": 59,
   "metadata": {},
   "outputs": [],
   "source": [
    "# limited english speaking households \n",
    "s1602_nyc_md = pd.read_json('demo/data/acs22_s1602_md.json')\n",
    "\n",
    "s1602_nyc_md = parse_md(s1602_nyc_md)\n",
    "\n",
    "s1602_nyc_md.to_csv('demo/data/acs22_s1602_md.csv')\n",
    "\n"
   ]
  },
  {
   "cell_type": "code",
   "execution_count": 60,
   "metadata": {},
   "outputs": [
    {
     "name": "stderr",
     "output_type": "stream",
     "text": [
      "/tmp/ipykernel_2512670/4253230726.py:5: SettingWithCopyWarning: \n",
      "A value is trying to be set on a copy of a slice from a DataFrame.\n",
      "Try using .loc[row_indexer,col_indexer] = value instead\n",
      "\n",
      "See the caveats in the documentation: https://pandas.pydata.org/pandas-docs/stable/user_guide/indexing.html#returning-a-view-versus-a-copy\n",
      "  acs['tract_id'] = acs['GEO_ID'].str.split('US', expand=True)[1]\n"
     ]
    }
   ],
   "source": [
    "s1602_nyc = pd.read_json('demo/data/acs22_s1602.json', orient='records')\n",
    "\n",
    "\n",
    "LEH_COLS = {\n",
    "    'S1602_C03_001E': 'num_limited_english_speaking_households'\n",
    "}\n",
    "\n",
    "leh_nyc = parse_acs(s1602_nyc, LEH_COLS)\n",
    "\n"
   ]
  },
  {
   "cell_type": "code",
   "execution_count": 61,
   "metadata": {},
   "outputs": [
    {
     "name": "stderr",
     "output_type": "stream",
     "text": [
      "\u001b[34m2025-02-05 12:13:14 - context-df-assembly - INFO - Merged NYC CT shapefile with ACS data.\u001b[0m\n",
      "\u001b[34m2025-02-05 12:13:14 - context-df-assembly - INFO - \n",
      "       num_limited_english_speaking_households\n",
      "count                              2325.000000\n",
      "mean                                196.311828\n",
      "std                                 232.642171\n",
      "min                                   0.000000\n",
      "25%                                  39.000000\n",
      "50%                                 112.000000\n",
      "75%                                 271.000000\n",
      "max                                2355.000000\u001b[0m\n"
     ]
    }
   ],
   "source": [
    "ct_nyc = ct_nyc.join(leh_nyc)\n",
    "logger.info(f\"Merged NYC CT shapefile with ACS data.\")\n",
    "logger.info(\"\\n\" + ct_nyc[LEH_COLS.values()].describe().to_string())"
   ]
  },
  {
   "cell_type": "code",
   "execution_count": 62,
   "metadata": {},
   "outputs": [
    {
     "name": "stderr",
     "output_type": "stream",
     "text": [
      "\u001b[34m2025-02-05 12:13:14 - context-df-assembly - INFO - Merged NYC CT shapefile with topology data.\u001b[0m\n",
      "\u001b[34m2025-02-05 12:13:14 - context-df-assembly - INFO - \n",
      "       ft_elevation_mean  ft_elevation_min  ft_elevation_max\n",
      "count        2325.000000       2325.000000       2325.000000\n",
      "mean           52.497800         29.783226         75.605591\n",
      "std            38.943588         30.884109         50.901703\n",
      "min             0.000000          0.000000          0.000000\n",
      "25%            23.677531          6.000000         39.000000\n",
      "50%            42.792872         20.000000         63.000000\n",
      "75%            70.795835         45.000000         99.000000\n",
      "max           322.465501        228.000000        411.000000\u001b[0m\n"
     ]
    }
   ],
   "source": [
    "# TOPOLOGY \n",
    "topology_ct_nyc = pd.read_csv('geo/data/processed/ct_nyc_topology.csv', index_col=0)\n",
    "topology_ct_nyc['GEOID'] = topology_ct_nyc['GEOID'].astype(str)\n",
    "topology_ct_nyc = topology_ct_nyc.set_index('GEOID')\n",
    "# prepend columns with 'ft_elevation'\n",
    "topology_ct_nyc.columns = ['ft_elevation_' + c for c in topology_ct_nyc.columns]\n",
    "ct_nyc = ct_nyc.merge(topology_ct_nyc, left_index=True, right_on='GEOID')\n",
    "logger.info(f\"Merged NYC CT shapefile with topology data.\")\n",
    "logger.info(\"\\n\" + ct_nyc[['ft_elevation_mean','ft_elevation_min','ft_elevation_max']].describe().to_string())"
   ]
  },
  {
   "cell_type": "code",
   "execution_count": 63,
   "metadata": {},
   "outputs": [],
   "source": [
    "gdf_ct_nyc = gpd.read_file('geo/data/ct-nyc-2020.geojson').to_crs(PROJ)[['GEOID','geometry']]\n"
   ]
  },
  {
   "cell_type": "code",
   "execution_count": 64,
   "metadata": {},
   "outputs": [],
   "source": [
    "# basic geographic features \n",
    "gdf_ct_nyc['area'] = gdf_ct_nyc.area \n",
    "# add this col to ct_nyc\n",
    "ct_nyc = ct_nyc.merge(gdf_ct_nyc[['GEOID','area']], left_index=True, right_on='GEOID').set_index('GEOID')\n"
   ]
  },
  {
   "cell_type": "code",
   "execution_count": 65,
   "metadata": {},
   "outputs": [
    {
     "name": "stdout",
     "output_type": "stream",
     "text": [
      "Index(['CTLabel', 'BoroName', 'BoroCT2020', 'NTAName', 'CDTANAME', 'PUMA',\n",
      "       'OBJECTID', 'NTA2020', 'CDTA2020', 'Shape__Area', 'Shape__Length',\n",
      "       'n_total', 'n_classified_positive', 'n_tp', 'n_fp', 'n_tn', 'n_fn',\n",
      "       'total_not_annotated', 'positives_not_annotated',\n",
      "       'negatives_not_annotated', 'total_population', 'nhl_white_alone',\n",
      "       'nhl_black_alone', 'hispanic_alone', 'nhl_asian_alone',\n",
      "       'total_households', 'num_households_with_internet',\n",
      "       'num_households_with_smartphone', 'median_household_income',\n",
      "       'num_high_school_graduates', 'num_bachelors_degree',\n",
      "       'num_graduate_degree', 'num_limited_english_speaking_households',\n",
      "       'ft_elevation_min', 'ft_elevation_max', 'ft_elevation_mean', 'area'],\n",
      "      dtype='object')\n"
     ]
    }
   ],
   "source": [
    "print(ct_nyc.columns)"
   ]
  },
  {
   "cell_type": "code",
   "execution_count": 66,
   "metadata": {},
   "outputs": [
    {
     "name": "stdout",
     "output_type": "stream",
     "text": [
      "Found 67 sensors in the September 2023 dataset.\n",
      "Found 254 sensors in the December 2024 dataset.\n"
     ]
    },
    {
     "name": "stderr",
     "output_type": "stream",
     "text": [
      "\u001b[34m2025-02-05 12:13:18 - context-df-assembly - INFO - Loaded and processed Floodnet sensor data.\u001b[0m\n"
     ]
    },
    {
     "name": "stdout",
     "output_type": "stream",
     "text": [
      "Dropped 1 sensors that were within 1 foot of each other, so that there are 253 unique sensors.\n"
     ]
    }
   ],
   "source": [
    "# FLOODNET \n",
    "sep2923_floodnet_sensors = pd.read_csv('flooding/static/floodnet-flood-sensor-sep-2023.csv', engine='pyarrow')\n",
    "\n",
    "dec1224_floodnet_sensors = pd.read_csv('flooding/static/current_floodnet_sensors.csv', engine='pyarrow')\n",
    "\n",
    "\n",
    "sep2923_floodnet_sensors_geo = sep2923_floodnet_sensors.groupby('deployment_id').first()\n",
    "all_floodnet_sensors_geo = dec1224_floodnet_sensors.groupby('deployment_id').first()\n",
    "\n",
    "\n",
    "\n",
    "\n",
    "print(f\"Found {len(sep2923_floodnet_sensors_geo)} sensors in the September 2023 dataset.\")\n",
    "print(f\"Found {len(all_floodnet_sensors_geo)} sensors in the December 2024 dataset.\")\n",
    "\n",
    "distance_thres=1 \n",
    "\n",
    "all_floodnet_sensors_geo = gpd.GeoDataFrame(all_floodnet_sensors_geo, geometry=gpd.points_from_xy(all_floodnet_sensors_geo['longitude'], all_floodnet_sensors_geo['latitude']), crs='EPSG:4326').to_crs(2263)\n",
    "\n",
    "# drop sensors that are within distance_thres of each other\n",
    "# for each sensor, check if there is a sensor within distance_thres\n",
    "# if so, drop it\n",
    "to_drop = []\n",
    "for i, row in all_floodnet_sensors_geo.iterrows():\n",
    "    if i in to_drop:\n",
    "        continue\n",
    "    for j, row2 in all_floodnet_sensors_geo.iterrows():\n",
    "        if i == j:\n",
    "            continue\n",
    "        if row.geometry.distance(row2.geometry) < distance_thres:\n",
    "            to_drop.append(j)\n",
    "all_floodnet_sensors_geo = all_floodnet_sensors_geo.drop(to_drop)\n",
    "print(f\"Dropped {len(to_drop)} sensors that were within {distance_thres} foot of each other, so that there are {len(all_floodnet_sensors_geo)} unique sensors.\")\n",
    "\n",
    "\n",
    "logger.info(\"Loaded and processed Floodnet sensor data.\")\n",
    "\n",
    "del sep2923_floodnet_sensors, dec1224_floodnet_sensors"
   ]
  },
  {
   "cell_type": "code",
   "execution_count": 67,
   "metadata": {},
   "outputs": [
    {
     "name": "stderr",
     "output_type": "stream",
     "text": [
      "\u001b[34m2025-02-05 12:13:18 - context-df-assembly - INFO - Merged Floodnet sensor data with NYC CT shapefile.\u001b[0m\n",
      "\u001b[34m2025-02-05 12:13:18 - context-df-assembly - INFO - \n",
      "count    2325.000000\n",
      "mean        0.108817\n",
      "std         0.440754\n",
      "min         0.000000\n",
      "25%         0.000000\n",
      "50%         0.000000\n",
      "75%         0.000000\n",
      "max         7.000000\u001b[0m\n"
     ]
    }
   ],
   "source": [
    "# get the number of floodnet sensors in each census tract in gdf_ct_nyc, including tracts with 0 sensors\n",
    "ct_nyc['n_floodnet_sensors'] = gpd.sjoin(gdf_ct_nyc, all_floodnet_sensors_geo).groupby('GEOID').size().reindex(ct_nyc.index).fillna(0)\n",
    "\n",
    "logger.info(\"Merged Floodnet sensor data with NYC CT shapefile.\")\n",
    "logger.info(\"\\n\"+ct_nyc['n_floodnet_sensors'].describe().to_string())\n",
    "\n"
   ]
  },
  {
   "cell_type": "code",
   "execution_count": 68,
   "metadata": {},
   "outputs": [],
   "source": [
    "# DEP STORMWATER \n",
    "dep_moderate = gpd.read_file('flooding/static/dep_stormwater_moderate_current/data.gdb').to_crs(PROJ)"
   ]
  },
  {
   "cell_type": "code",
   "execution_count": 69,
   "metadata": {},
   "outputs": [],
   "source": [
    "polygons = {}\n",
    "for i, row in dep_moderate.iterrows():\n",
    "    idx = 0\n",
    "    for polygon in row['geometry'].geoms:\n",
    "        polygons[f'{row[\"Flooding_Category\"]}_{idx}'] = polygon\n",
    "        idx += 1\n",
    "    \n",
    "# dataframe from dict\n",
    "dep_moderate_flattened = gpd.GeoDataFrame(polygons, index=['geometry']).T\n",
    "\n",
    "dep_moderate_flattened.set_geometry('geometry', inplace=True)\n",
    "dep_moderate_flattened.crs = dep_moderate.crs\n",
    "\n",
    "dep_moderate_flattened['Flooding_Category'] = dep_moderate_flattened.index.str.split('_').str[0].astype(int)"
   ]
  },
  {
   "cell_type": "code",
   "execution_count": 70,
   "metadata": {},
   "outputs": [
    {
     "name": "stderr",
     "output_type": "stream",
     "text": [
      "\u001b[34m2025-02-05 12:13:22 - context-df-assembly - INFO - Merged DEP stormwater data with NYC CT shapefile.\u001b[0m\n",
      "\u001b[34m2025-02-05 12:13:22 - context-df-assembly - INFO - \n",
      "       dep_moderate_1_area  dep_moderate_2_area  dep_moderate_1_frac  dep_moderate_2_frac\n",
      "count         2.325000e+03          2325.000000          2325.000000          2325.000000\n",
      "mean          5.184028e+04         17715.162752             0.015085             0.005161\n",
      "std           1.265330e+05         51706.949160             0.028685             0.014315\n",
      "min           0.000000e+00             0.000000             0.000000             0.000000\n",
      "25%           0.000000e+00             0.000000             0.000000             0.000000\n",
      "50%           7.081369e+03             0.000000             0.002273             0.000000\n",
      "75%           4.696999e+04          9705.671683             0.017906             0.003840\n",
      "max           1.731688e+06        736975.317159             0.404304             0.254064\u001b[0m\n"
     ]
    }
   ],
   "source": [
    "# get the total area of light and moderate flooding in each ct in gdf_ct_nyc \n",
    "dep_moderate_flattened_1 = dep_moderate_flattened[dep_moderate_flattened['Flooding_Category'] == 1]\n",
    "dep_moderate_flattened_2 = dep_moderate_flattened[dep_moderate_flattened['Flooding_Category'] == 2]\n",
    "ct_nyc['dep_moderate_1_area'] = gpd.overlay(gdf_ct_nyc, dep_moderate_flattened_1, how='intersection').groupby('GEOID')['geometry'].apply(lambda geom: geom.area.sum()).reindex(ct_nyc.index).fillna(0)\n",
    "ct_nyc['dep_moderate_2_area'] = gpd.overlay(gdf_ct_nyc, dep_moderate_flattened_2, how='intersection').groupby('GEOID')['geometry'].apply(lambda geom: geom.area.sum()).reindex(ct_nyc.index).fillna(0)\n",
    "\n",
    "# area of 1 should also include area of 2, since two is more severe than 1 \n",
    "ct_nyc['dep_moderate_1_area'] += ct_nyc['dep_moderate_2_area']\n",
    "\n",
    "ct_nyc['dep_moderate_1_frac'] = ct_nyc['dep_moderate_1_area'] / ct_nyc['area']\n",
    "ct_nyc['dep_moderate_2_frac'] = ct_nyc['dep_moderate_2_area'] / ct_nyc['area']\n",
    "\n",
    "\n",
    "logger.info(\"Merged DEP stormwater data with NYC CT shapefile.\")\n",
    "\n",
    "logger.info(\"\\n\"+ct_nyc[['dep_moderate_1_area','dep_moderate_2_area','dep_moderate_1_frac','dep_moderate_2_frac']].describe().to_string())"
   ]
  },
  {
   "cell_type": "code",
   "execution_count": 71,
   "metadata": {},
   "outputs": [
    {
     "name": "stderr",
     "output_type": "stream",
     "text": [
      "\u001b[34m2025-02-05 12:13:22 - context-df-assembly - INFO - Loaded and processed 311 data from September 29, 2023.\u001b[0m\n",
      "\u001b[34m2025-02-05 12:13:22 - context-df-assembly - INFO - There were 2171 311 calls on September 29, 2023.\u001b[0m\n"
     ]
    }
   ],
   "source": [
    "# 311 from September 29 Flood \n",
    "nyc311_sep29 = pd.read_csv('flooding/data/nyc311_flooding_sep29.csv').dropna(subset=['latitude','longitude'])\n",
    "\n",
    "nyc311_sep29 = gpd.GeoDataFrame(nyc311_sep29, geometry=gpd.points_from_xy(nyc311_sep29.longitude, nyc311_sep29.latitude), crs=WGS).to_crs(PROJ)\n",
    "\n",
    "logger.info(\"Loaded and processed 311 data from September 29, 2023.\")\n",
    "logger.info(f\"There were {len(nyc311_sep29)} 311 calls on September 29, 2023.\")"
   ]
  },
  {
   "cell_type": "code",
   "execution_count": 72,
   "metadata": {},
   "outputs": [
    {
     "name": "stderr",
     "output_type": "stream",
     "text": [
      "\u001b[34m2025-02-05 12:13:27 - context-df-assembly - INFO - Merged 311 data with NYC CT shapefile.\u001b[0m\n",
      "\u001b[34m2025-02-05 12:13:27 - context-df-assembly - INFO - \n",
      "sewer_backup_311c                    1080\n",
      "street_flooding_311c                  624\n",
      "catch_basin_clogged/flooding_311c     431\n",
      "manhole_overflow_311c                  35\n",
      "highway_flooding_311c                   1\u001b[0m\n"
     ]
    }
   ],
   "source": [
    "# for each unique val of descriptor, create a column in gdf_ct_nyc with the count of 311 calls of that descriptor type in each tract \n",
    "for descriptor in nyc311_sep29['descriptor'].unique():\n",
    "    # human-readable column name \n",
    "    # remove anything inside () \n",
    "    desc = descriptor.split('(')[0].strip()\n",
    "    desc = desc.lower().replace(' ', '_') + '_311c'\n",
    "\n",
    "    gdf_ct_nyc[desc] = gdf_ct_nyc['geometry'].apply(lambda x: nyc311_sep29[nyc311_sep29['descriptor'] == descriptor].within(x).sum())\n",
    "\n",
    "logger.info(\"Merged 311 data with NYC CT shapefile.\")\n",
    "logger.info(\"\\n\"+ gdf_ct_nyc[[c for c in gdf_ct_nyc.columns if '_311c' in c]].sum().to_string())\n"
   ]
  },
  {
   "cell_type": "code",
   "execution_count": 73,
   "metadata": {},
   "outputs": [
    {
     "name": "stdout",
     "output_type": "stream",
     "text": [
      "2325\n"
     ]
    }
   ],
   "source": [
    "print(len(ct_nyc.index))\n",
    "#nyc_fvi = pd.read_csv('flooding/data/nyc_fvi.csv')\n",
    "#def try_geo_parse(x):\n",
    "#    try:\n",
    "#        return wkt.loads(x)\n",
    "#    except:\n",
    "#        return None\n",
    "    \n",
    "#nyc_fvi['geometry'] = nyc_fvi['the_geom'].apply(try_geo_parse)\n",
    "## drop na geometry \n",
    "#nyc_fvi = nyc_fvi.dropna(subset=['geometry'])\n",
    "# drop the_geom \n",
    "#nyc_fvi.drop(columns=['the_geom'], inplace=True)\n",
    "#nyc_fvi = gpd.GeoDataFrame(nyc_fvi, crs=WGS, geometry='geometry').to_crs(PROJ)\n",
    "#nyc_fvi['geoid'] = nyc_fvi['geoid'].astype(str)\n",
    "#nyc_fvi = ct_nyc.merge(nyc_fvi.set_index('geoid'), left_index=True, right_index=True)[['fshri']]\n",
    "#print(len(nyc_fvi.index))\n",
    "#ct_nyc = ct_nyc.merge(nyc_fvi, left_index=True, right_index=True, how='left').drop_duplicates()\n",
    "#ct_nyc['fshri'].fillna(0, inplace=True)\n",
    "#print(len(ct_nyc.index))"
   ]
  },
  {
   "cell_type": "code",
   "execution_count": 74,
   "metadata": {},
   "outputs": [
    {
     "name": "stdout",
     "output_type": "stream",
     "text": [
      "2325\n"
     ]
    }
   ],
   "source": [
    "# drop area, geometry from gdf_ct_nyc \n",
    "gdf_ct_nyc.drop(columns=['area','geometry'], inplace=True)\n",
    "print(len(gdf_ct_nyc.index))"
   ]
  },
  {
   "cell_type": "code",
   "execution_count": 75,
   "metadata": {},
   "outputs": [
    {
     "name": "stdout",
     "output_type": "stream",
     "text": [
      "2325\n"
     ]
    }
   ],
   "source": [
    "# merge gdf_ct_nyc with ct_nyc\n",
    "ct_nyc = ct_nyc.merge(gdf_ct_nyc, left_index=True, right_on='GEOID')\n",
    "print(len(ct_nyc.index))"
   ]
  },
  {
   "cell_type": "code",
   "execution_count": 76,
   "metadata": {},
   "outputs": [
    {
     "name": "stderr",
     "output_type": "stream",
     "text": [
      "\u001b[32m2025-02-05 12:13:27 - context-df-assembly - SUCCESS - No N/A values found in columns.\u001b[0m\n"
     ]
    }
   ],
   "source": [
    "COLS_ALLOWED_NA_VALS = ['empirical_estimate']\n",
    "def na_validation(df, cols_allowed_na_vals):\n",
    "    for c in df.columns:\n",
    "        if c in cols_allowed_na_vals:\n",
    "            continue\n",
    "        if df[c].isna().sum() > 0:\n",
    "            logger.error(f\"Column {c} has {df[c].isna().sum()} NA values.\")\n",
    "    else: \n",
    "        logger.success(\"No N/A values found in columns.\")\n",
    "na_validation(ct_nyc, COLS_ALLOWED_NA_VALS)"
   ]
  },
  {
   "cell_type": "code",
   "execution_count": 77,
   "metadata": {},
   "outputs": [
    {
     "name": "stderr",
     "output_type": "stream",
     "text": [
      "\u001b[34m2025-02-05 12:13:27 - context-df-assembly - INFO - Dropped columns: {'CTLabel'}\u001b[0m\n"
     ]
    }
   ],
   "source": [
    "# final cleaning \n",
    "TO_DROP = ['tract_id', 'n_images_by_area_','CTLabel']\n",
    "# drop all columns that match regex of entry in list \n",
    "current_cols = ct_nyc.columns\n",
    "for c in TO_DROP:\n",
    "    ct_nyc = ct_nyc.loc[:, ~ct_nyc.columns.str.contains(c)]\n",
    "\n",
    "logger.info(f\"Dropped columns: {set(current_cols) - set(ct_nyc.columns)}\")"
   ]
  },
  {
   "cell_type": "code",
   "execution_count": 78,
   "metadata": {},
   "outputs": [],
   "source": [
    "todays_date = pd.to_datetime('today').strftime('%m%d%Y')\n",
    "ct_nyc.describe().apply(lambda s: s.apply(lambda x: format(x, 'f'))).to_csv(f'context_df_describe_{todays_date}.csv')\n",
    "ct_nyc.to_csv(f'context_df_{todays_date}.csv', index=False)\n"
   ]
  },
  {
   "cell_type": "code",
   "execution_count": 79,
   "metadata": {},
   "outputs": [
    {
     "data": {
      "image/png": "[encoded data removed]",
      "text/plain": [
       "<Figure size 1000x400 with 3 Axes>"
      ]
     },
     "metadata": {},
     "output_type": "display_data"
    }
   ],
   "source": [
    "# 3x1 histogram for ft_elevation_min, ft_elevation_mean, and ft_elevation_max\n",
    "import matplotlib.pyplot as plt\n",
    "\n",
    "fig, axs = plt.subplots(1, 3, figsize=(10, 4))\n",
    "for i, c in enumerate(['ft_elevation_min','ft_elevation_mean','ft_elevation_max']):\n",
    "    axs[i].hist(ct_nyc[c], bins=50)\n",
    "    axs[i].set_title(c)"
   ]
  },
  {
   "cell_type": "code",
   "execution_count": 80,
   "metadata": {},
   "outputs": [
    {
     "data": {
      "image/png": "[encoded data removed]",
      "text/plain": [
       "<Figure size 1000x400 with 2 Axes>"
      ]
     },
     "metadata": {},
     "output_type": "display_data"
    }
   ],
   "source": [
    "# repeat for dep \n",
    "fig, axs = plt.subplots(1, 2, figsize=(10, 4))\n",
    "for i, c in enumerate(['dep_moderate_1_frac','dep_moderate_2_frac']):\n",
    "    axs[i].hist(ct_nyc[c], bins=50)\n",
    "    axs[i].set_title(c)"
   ]
  },
  {
   "cell_type": "code",
   "execution_count": null,
   "metadata": {},
   "outputs": [],
   "source": []
  }
 ],
 "metadata": {
  "kernelspec": {
   "display_name": "Python 3",
   "language": "python",
   "name": "python3"
  },
  "language_info": {
   "codemirror_mode": {
    "name": "ipython",
    "version": 3
   },
   "file_extension": ".py",
   "mimetype": "text/x-python",
   "name": "python",
   "nbconvert_exporter": "python",
   "pygments_lexer": "ipython3",
   "version": "3.11.9"
  }
 },
 "nbformat": 4,
 "nbformat_minor": 2
}
