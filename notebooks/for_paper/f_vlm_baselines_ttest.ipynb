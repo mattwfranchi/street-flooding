{
 "cells": [
  {
   "cell_type": "code",
   "execution_count": 89,
   "metadata": {},
   "outputs": [],
   "source": [
    "import pandas as pd "
   ]
  },
  {
   "cell_type": "code",
   "execution_count": 90,
   "metadata": {},
   "outputs": [],
   "source": [
    "def code_choice(row):\n",
    "    row = row.lower()\n",
    "    if 'not' in row: \n",
    "        return 0\n",
    "    else: \n",
    "        return 1\n"
   ]
  },
  {
   "cell_type": "code",
   "execution_count": 91,
   "metadata": {},
   "outputs": [
    {
     "name": "stdout",
     "output_type": "stream",
     "text": [
      "0.082\n",
      "0.57\n",
      "250 250\n",
      "0.152 0.988\n"
     ]
    },
    {
     "name": "stderr",
     "output_type": "stream",
     "text": [
      "/tmp/ipykernel_1945486/3577705431.py:3: DeprecationWarning: DataFrameGroupBy.apply operated on the grouping columns. This behavior is deprecated, and in a future version of pandas the grouping columns will be excluded from the operation. Either pass `include_groups=False` to exclude the groupings or explicitly select the grouping columns after groupby to silence this warning.\n",
      "  cambrian8b = cambrian8b.groupby('sentiment_2').apply(lambda x: x.sample(250, random_state=777, replace=False)).reset_index(drop=True)\n"
     ]
    }
   ],
   "source": [
    "cambrian8b = pd.read_csv(\"vlm_baselines/cambrian-8b-annotations.csv\")\n",
    "# resample on sentiment_2, 250 in each class\n",
    "cambrian8b = cambrian8b.groupby('sentiment_2').apply(lambda x: x.sample(250, random_state=777, replace=False)).reset_index(drop=True)\n",
    "cambrian8b['gt'] = cambrian8b['choice'].apply(code_choice)\n",
    "print(cambrian8b['gt'].mean())\n",
    "cambrian8b = cambrian8b[['sentiment_2', 'gt']]\n",
    "cambrian8b['correct'] = cambrian8b['sentiment_2'] == cambrian8b['gt']\n",
    "print(cambrian8b['correct'].mean())\n",
    "\n",
    "# split into _1 and _0 on classification \n",
    "cambrian8b_1 = cambrian8b[cambrian8b['sentiment_2'] == 1]\n",
    "cambrian8b_0 = cambrian8b[cambrian8b['sentiment_2'] == 0]\n",
    "print(len(cambrian8b_1), len(cambrian8b_0))\n",
    "\n",
    "# compute p(correct) for each split\n",
    "print(cambrian8b_1['correct'].mean(), cambrian8b_0['correct'].mean())\n",
    "\n",
    "assert len(cambrian8b_1) == len(cambrian8b_0)\n"
   ]
  },
  {
   "cell_type": "code",
   "execution_count": 92,
   "metadata": {},
   "outputs": [
    {
     "name": "stdout",
     "output_type": "stream",
     "text": [
      "0.332\n",
      "0.826\n",
      "500 500\n",
      "0.658 0.994\n"
     ]
    }
   ],
   "source": [
    "cambrian13b = pd.read_csv('../cambrian/inspection_set_annotated.csv')\n",
    "\n",
    "def code_inspection_set_choice(row):\n",
    "    row = row.lower()\n",
    "    if 'drivable' in row:\n",
    "        return 0\n",
    "    else:\n",
    "        return 1\n",
    "\n",
    "cambrian13b['gt'] = cambrian13b['choice'].apply(code_inspection_set_choice)\n",
    "print(cambrian13b['gt'].mean())\n",
    "cambrian13b = cambrian13b[['sentiment_1', 'gt']]\n",
    "cambrian13b['correct'] = cambrian13b['sentiment_1'] == cambrian13b['gt']\n",
    "print(cambrian13b['correct'].mean())\n",
    "\n",
    "# split into _1 and _0 on classification\n",
    "cambrian13b_1 = cambrian13b[cambrian13b['sentiment_1'] == 1]\n",
    "cambrian13b_0 = cambrian13b[cambrian13b['sentiment_1'] == 0]\n",
    "print(len(cambrian13b_1), len(cambrian13b_0))\n",
    "\n",
    "# compute p(correct) for each split\n",
    "print(cambrian13b_1['correct'].mean(), cambrian13b_0['correct'].mean())\n",
    "\n",
    "assert len(cambrian13b_1) == len(cambrian13b_0)\n"
   ]
  },
  {
   "cell_type": "code",
   "execution_count": 93,
   "metadata": {},
   "outputs": [
    {
     "name": "stdout",
     "output_type": "stream",
     "text": [
      "0.13\n",
      "0.618\n",
      "250 250\n",
      "0.248 0.988\n"
     ]
    },
    {
     "name": "stderr",
     "output_type": "stream",
     "text": [
      "/tmp/ipykernel_1945486/130153512.py:4: DeprecationWarning: DataFrameGroupBy.apply operated on the grouping columns. This behavior is deprecated, and in a future version of pandas the grouping columns will be excluded from the operation. Either pass `include_groups=False` to exclude the groupings or explicitly select the grouping columns after groupby to silence this warning.\n",
      "  janus = janus.groupby('answer').apply(lambda x: x.sample(250, random_state=777, replace=False)).reset_index(drop=True)\n"
     ]
    }
   ],
   "source": [
    "janus = pd.read_csv(\"vlm_baselines/januspro_onefoot_annotations.csv\")\n",
    "janus['answer'] = janus['answer'].apply(lambda x: 1 if 'yes' in x.lower() else 0)\n",
    "# resample on answer, 250 in each class\n",
    "janus = janus.groupby('answer').apply(lambda x: x.sample(250, random_state=777, replace=False)).reset_index(drop=True)\n",
    "janus['gt'] = janus['choice'].apply(code_choice)\n",
    "print(janus['gt'].mean())\n",
    "janus = janus[['answer', 'gt']]\n",
    "# code answer \n",
    "# if answer contains yes, 1. else 0\n",
    "\n",
    "janus['correct'] = janus['answer'] == janus['gt']\n",
    "print(janus['correct'].mean())\n",
    "\n",
    "# split into _1 and _0 on classification\n",
    "janus_1 = janus[janus['answer'] == 1]\n",
    "janus_0 = janus[janus['answer'] == 0]\n",
    "\n",
    "print(len(janus_1), len(janus_0))\n",
    "\n",
    "# compute p(correct) for each split\n",
    "print(janus_1['correct'].mean(), janus_0['correct'].mean())\n",
    "\n",
    "assert len(janus_1) == len(janus_0)"
   ]
  },
  {
   "cell_type": "code",
   "execution_count": 94,
   "metadata": {},
   "outputs": [
    {
     "name": "stdout",
     "output_type": "stream",
     "text": [
      "0.116\n",
      "0.608\n",
      "250 250\n",
      "0.224 0.992\n"
     ]
    },
    {
     "name": "stderr",
     "output_type": "stream",
     "text": [
      "/tmp/ipykernel_1945486/4208378493.py:5: DeprecationWarning: DataFrameGroupBy.apply operated on the grouping columns. This behavior is deprecated, and in a future version of pandas the grouping columns will be excluded from the operation. Either pass `include_groups=False` to exclude the groupings or explicitly select the grouping columns after groupby to silence this warning.\n",
      "  clip = clip.groupby('positive').apply(lambda x: x.sample(250, random_state=777, replace=False)).reset_index(drop=True)\n"
     ]
    }
   ],
   "source": [
    "clip = pd.read_csv(\"vlm_baselines/clip-vitg-annotations.csv\")\n",
    "clip['positive'] = clip['positive'].astype(int)\n",
    "\n",
    "# resample on positive, 250 in each class\n",
    "clip = clip.groupby('positive').apply(lambda x: x.sample(250, random_state=777, replace=False)).reset_index(drop=True)\n",
    "\n",
    "clip['gt'] = clip['choice'].apply(code_choice)\n",
    "print(clip['gt'].mean())\n",
    "\n",
    "\n",
    "clip = clip[['positive', 'gt']]\n",
    "clip['correct'] = clip['positive'] == clip['gt']\n",
    "print(clip['correct'].mean())\n",
    "\n",
    "# split into _1 and _0 on classification\n",
    "clip_1 = clip[clip['positive'] == 1]\n",
    "clip_0 = clip[clip['positive'] == 0]\n",
    "\n",
    "print(len(clip_1), len(clip_0))\n",
    "\n",
    "# compute p(correct) for each split\n",
    "print(clip_1['correct'].mean(), clip_0['correct'].mean())\n",
    "\n",
    "assert len(clip_1) == len(clip_0)\n"
   ]
  },
  {
   "cell_type": "code",
   "execution_count": 95,
   "metadata": {},
   "outputs": [
    {
     "name": "stdout",
     "output_type": "stream",
     "text": [
      "0.238\n",
      "0.726\n",
      "250 250\n",
      "0.464 0.988\n"
     ]
    },
    {
     "name": "stderr",
     "output_type": "stream",
     "text": [
      "/tmp/ipykernel_1945486/3363340556.py:3: DeprecationWarning: DataFrameGroupBy.apply operated on the grouping columns. This behavior is deprecated, and in a future version of pandas the grouping columns will be excluded from the operation. Either pass `include_groups=False` to exclude the groupings or explicitly select the grouping columns after groupby to silence this warning.\n",
      "  supervised = supervised.groupby('pred_label').apply(lambda x: x.sample(250, random_state=777, replace=False)).reset_index(drop=True)\n"
     ]
    }
   ],
   "source": [
    "supervised = pd.read_csv(\"vlm_baselines/supervised_annotations.csv\")\n",
    "# resample on pred_label, 250 in each class\n",
    "supervised = supervised.groupby('pred_label').apply(lambda x: x.sample(250, random_state=777, replace=False)).reset_index(drop=True)\n",
    "\n",
    "supervised['gt'] = supervised['choice'].apply(code_choice)\n",
    "print(supervised['gt'].mean())\n",
    "\n",
    "supervised = supervised[['pred_label', 'gt']]\n",
    "supervised['correct'] = supervised['pred_label'] == supervised['gt']\n",
    "print(supervised['correct'].mean())\n",
    "\n",
    "# split into _1 and _0 on classification\n",
    "supervised_1 = supervised[supervised['pred_label'] == 1]\n",
    "supervised_0 = supervised[supervised['pred_label'] == 0]\n",
    "\n",
    "print(len(supervised_1), len(supervised_0))\n",
    "\n",
    "# compute p(correct) for each split\n",
    "print(supervised_1['correct'].mean(), supervised_0['correct'].mean())\n",
    "\n",
    "assert len(supervised_1) == len(supervised_0)\n",
    "\n"
   ]
  },
  {
   "cell_type": "code",
   "execution_count": 96,
   "metadata": {},
   "outputs": [
    {
     "name": "stdout",
     "output_type": "stream",
     "text": [
      "cambrian8b_1: t = 14.85006675549572, p = 6.577494164661533e-44\n",
      "cambrian8b_1: p(correct) = 0.152\n",
      "\n",
      "janus_1: t = 11.475368077124033, p = 3.427777194496924e-28\n",
      "janus_1: p(correct) = 0.248\n",
      "\n",
      "clip_1: t = 12.269837140309578, p = 1.1602191170130746e-31\n",
      "clip_1: p(correct) = 0.224\n",
      "\n",
      "supervised_1: t = 5.182483274223039, p = 2.8194316471432415e-07\n",
      "supervised_1: p(correct) = 0.464\n",
      "\n",
      "cambrian8b_0: t = 0.8687883161301141, p = 0.3852415925219138\n",
      "cambrian8b_0: p(correct) = 0.988\n",
      "\n",
      "janus_0: t = 0.868788316130114, p = 0.3852415925219138\n",
      "janus_0: p(correct) = 0.988\n",
      "\n",
      "clip_0: t = 0.31688509470056897, p = 0.7514192129628873\n",
      "clip_0: p(correct) = 0.992\n",
      "\n",
      "supervised_0: t = 0.868788316130114, p = 0.3852415925219138\n",
      "supervised_0: p(correct) = 0.988\n",
      "\n"
     ]
    }
   ],
   "source": [
    "# run a t test between cambrian13b and each other baseline \n",
    "# test the _1 and _0 separately\n",
    "from scipy.stats import ttest_ind\n",
    "\n",
    "positive_baseline_names = ['cambrian8b_1', 'janus_1', 'clip_1', 'supervised_1']\n",
    "negative_baseline_names = ['cambrian8b_0', 'janus_0', 'clip_0', 'supervised_0']\n",
    "positive_baselines = [cambrian8b_1, janus_1, clip_1, supervised_1]\n",
    "negative_baselines = [cambrian8b_0, janus_0, clip_0, supervised_0]\n",
    "\n",
    "for i, baseline in enumerate(positive_baselines):\n",
    "    # run t test with cambrian13b_1 and baseline\n",
    "    t, p = ttest_ind(cambrian13b_1['correct'], baseline['correct'])\n",
    "    print(f\"{positive_baseline_names[i]}: t = {t}, p = {p}\")\n",
    "    print(f\"{positive_baseline_names[i]}: p(correct) = {baseline['correct'].mean()}\")\n",
    "    print()\n",
    "\n",
    "for i, baseline in enumerate(negative_baselines):\n",
    "    # run t test with cambrian13b_0 and baseline\n",
    "\n",
    "    t, p = ttest_ind(cambrian13b_0['correct'], baseline['correct'])\n",
    "    print(f\"{negative_baseline_names[i]}: t = {t}, p = {p}\")\n",
    "    print(f\"{negative_baseline_names[i]}: p(correct) = {baseline['correct'].mean()}\")\n",
    "    print()\n",
    "\n",
    "\n",
    "\n",
    "\n",
    "\n",
    "\n",
    "\n"
   ]
  },
  {
   "cell_type": "code",
   "execution_count": null,
   "metadata": {},
   "outputs": [],
   "source": []
  }
 ],
 "metadata": {
  "kernelspec": {
   "display_name": "Python 3",
   "language": "python",
   "name": "python3"
  },
  "language_info": {
   "codemirror_mode": {
    "name": "ipython",
    "version": 3
   },
   "file_extension": ".py",
   "mimetype": "text/x-python",
   "name": "python",
   "nbconvert_exporter": "python",
   "pygments_lexer": "ipython3",
   "version": "3.11.9"
  }
 },
 "nbformat": 4,
 "nbformat_minor": 2
}
