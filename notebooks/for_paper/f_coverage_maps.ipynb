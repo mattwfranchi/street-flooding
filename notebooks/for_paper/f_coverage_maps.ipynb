{
 "cells": [
  {
   "cell_type": "code",
   "execution_count": 1,
   "metadata": {},
   "outputs": [
    {
     "name": "stderr",
     "output_type": "stream",
     "text": [
      "\u001b[34m2025-02-05 16:24:27 - generate-flood-risk-coverage-maps - INFO - Modules loaded.\u001b[0m\n"
     ]
    }
   ],
   "source": [
    "import pandas as pd\n",
    "import numpy as np\n",
    "import geopandas as gpd\n",
    "import geodatasets\n",
    "import matplotlib.pyplot as plt\n",
    "from matplotlib.colors import LogNorm, BoundaryNorm\n",
    "from matplotlib.cm import get_cmap\n",
    "import colorcet as cc\n",
    "from matplotlib.lines import Line2D\n",
    "from matplotlib.patches import Patch\n",
    "\n",
    "# enable latex plotting \n",
    "plt.rc('text', usetex=True)\n",
    "plt.rc('font', family='serif')\n",
    "\n",
    "import constants as c \n",
    "from logger import setup_logger \n",
    "log = setup_logger(\"generate-flood-risk-coverage-maps\")\n",
    "log.setLevel(\"INFO\")\n",
    "log.info(\"Modules loaded.\")"
   ]
  },
  {
   "cell_type": "code",
   "execution_count": 2,
   "metadata": {},
   "outputs": [
    {
     "name": "stderr",
     "output_type": "stream",
     "text": [
      "\u001b[34m2025-02-05 16:24:28 - generate-flood-risk-coverage-maps - INFO - Loaded NYC Census Tracts.\u001b[0m\n",
      "\u001b[34m2025-02-05 16:24:28 - generate-flood-risk-coverage-maps - INFO - Loaded NYC Boroughs.\u001b[0m\n"
     ]
    }
   ],
   "source": [
    "ct_nyc = gpd.read_file(f\"{c.GEO_PATH}/ct-nyc-2020.geojson\", crs=c.WGS).to_crs(c.PROJ)\n",
    "log.info(\"Loaded NYC Census Tracts.\")\n",
    "\n",
    "nybb = gpd.read_file(geodatasets.get_path(\"nybb\"), crs=c.WGS).to_crs(c.PROJ)\n",
    "log.info(\"Loaded NYC Boroughs.\")"
   ]
  },
  {
   "cell_type": "code",
   "execution_count": 3,
   "metadata": {},
   "outputs": [
    {
     "name": "stderr",
     "output_type": "stream",
     "text": [
      "\u001b[34m2025-02-05 16:24:28 - generate-flood-risk-coverage-maps - INFO - Analysis dataframe loaded.\u001b[0m\n",
      "\u001b[34m2025-02-05 16:24:28 - generate-flood-risk-coverage-maps - INFO - Found 176 tracts with confirmed flooding images.\u001b[0m\n",
      "\u001b[34m2025-02-05 16:24:28 - generate-flood-risk-coverage-maps - INFO - 25th quantile of p_y among tracts with confirmed flooding images: 0.006943781295086425\u001b[0m\n"
     ]
    }
   ],
   "source": [
    "analysis_df = pd.read_csv(c.CURRENT_DF)\n",
    "log.info(\"Analysis dataframe loaded.\")\n",
    "\n",
    "# ESTIMATE_THRES should be the 25th quantile of p_y among tracts with confirmed_flooding_image \n",
    "analysis_df['confirmed_flooding_image'] = analysis_df['at_least_one_positive_image_by_area'] == 1\n",
    "log.info(f\"Found {analysis_df['confirmed_flooding_image'].sum()} tracts with confirmed flooding images.\")\n",
    "\n",
    "# calculate the 25th quantile of p_y among tracts with confirmed flooding images\n",
    "ESTIMATE_THRES = analysis_df.loc[analysis_df['confirmed_flooding_image'], 'p_y'].quantile(0.25)\n",
    "log.info(f\"25th quantile of p_y among tracts with confirmed flooding images: {ESTIMATE_THRES}\")"
   ]
  },
  {
   "cell_type": "code",
   "execution_count": 4,
   "metadata": {},
   "outputs": [
    {
     "name": "stderr",
     "output_type": "stream",
     "text": [
      "\u001b[34m2025-02-05 16:24:28 - generate-flood-risk-coverage-maps - INFO - Found 192 tracts with at least one FloodNet sensor.\u001b[0m\n",
      "\u001b[34m2025-02-05 16:24:28 - generate-flood-risk-coverage-maps - INFO - Found 2171 311 requests.\u001b[0m\n",
      "\u001b[34m2025-02-05 16:24:28 - generate-flood-risk-coverage-maps - INFO - Found 878 tracts with at least one 311 report.\u001b[0m\n",
      "\u001b[34m2025-02-05 16:24:28 - generate-flood-risk-coverage-maps - INFO - Found 1001 tracts with no DEP flooding.\u001b[0m\n"
     ]
    }
   ],
   "source": [
    "analysis_df['any_sensors'] = analysis_df['n_floodnet_sensors'] > 0\n",
    "log.info(f\"Found {analysis_df['any_sensors'].sum()} tracts with at least one FloodNet sensor.\")\n",
    "\n",
    "# get all columns with 311 in name, and sum them up\n",
    "analysis_df['n_311_requests'] = analysis_df.filter(like='311').sum(axis=1)\n",
    "log.info(f\"Found {analysis_df['n_311_requests'].sum()} 311 requests.\")\n",
    "\n",
    "analysis_df['any_311_report'] = analysis_df['n_311_requests'] > 0\n",
    "log.info(f\"Found {analysis_df['any_311_report'].sum()} tracts with at least one 311 report.\")\n",
    "\n",
    "analysis_df['no_dep_flooding'] = analysis_df['dep_moderate_2_frac'] == 0\n",
    "log.info(f\"Found {analysis_df['no_dep_flooding'].sum()} tracts with no DEP flooding.\")"
   ]
  },
  {
   "cell_type": "code",
   "execution_count": 5,
   "metadata": {},
   "outputs": [
    {
     "name": "stderr",
     "output_type": "stream",
     "text": [
      "\u001b[34m2025-02-05 16:24:28 - generate-flood-risk-coverage-maps - INFO - Length of analysis_df (2325) matches length of ct_nyc (2325).\u001b[0m\n"
     ]
    }
   ],
   "source": [
    "# merge geometry from ct_nyc into analysis_df\n",
    "analysis_df['GEOID'] = analysis_df['GEOID'].astype(str)\n",
    "analysis_df = ct_nyc.merge(analysis_df, on='GEOID')\n",
    "# make sure analysis_df has the same number of rows as ct_nyc \n",
    "if len(analysis_df) != len(ct_nyc):\n",
    "    log.error(f\"Length of analysis_df ({len(analysis_df)}) does not match length of ct_nyc ({len(ct_nyc)}).\")\n",
    "    exit(1)\n",
    "else: \n",
    "    log.info(f\"Length of analysis_df ({len(analysis_df)}) matches length of ct_nyc ({len(ct_nyc)}).\")\n",
    "\n",
    "analysis_df = gpd.GeoDataFrame(analysis_df, crs=c.PROJ)"
   ]
  },
  {
   "cell_type": "code",
   "execution_count": 6,
   "metadata": {},
   "outputs": [],
   "source": [
    "from palettable.colorbrewer.sequential import GnBu_5 as colormap\n",
    "\n",
    "def plot_isolated_signal_map(\n",
    "    analysis_df,\n",
    "    estimate='at_least_one_positive_image_by_area',\n",
    "    figsize=(25, 25),\n",
    "    title='Tracts with Model Signal Only'\n",
    "):\n",
    "    \"\"\"\n",
    "    Map showing tracts with signal from estimate column but no other external signals\n",
    "    \"\"\"\n",
    "    fig, ax = plt.subplots(figsize=figsize)\n",
    "    \n",
    "    # Isolate tracts with model signal but no other signals\n",
    "    isolated_tracts = analysis_df[\n",
    "        (analysis_df[estimate] > ESTIMATE_THRES) & \n",
    "        (analysis_df['any_sensors'] == 0) & \n",
    "        (analysis_df['any_311_report'] == 0) & \n",
    "        (analysis_df['no_dep_flooding'] == 1)\n",
    "    ]\n",
    "    \n",
    "    # Plot base map in light grey\n",
    "    analysis_df.plot(ax=ax, color='lightgrey', edgecolor='white', linewidth=0.5, zorder=1)\n",
    "    \n",
    "    # Plot isolated tracts in highlight color\n",
    "    isolated_tracts.plot(ax=ax, color='gold', edgecolor='black', linewidth=1, zorder=2)\n",
    "    \n",
    "    # Add nybb boundary\n",
    "    nybb.boundary.plot(ax=ax, color='black', linewidth=2, zorder=3)\n",
    "    \n",
    "    # Add legend\n",
    "    legend_elements = [\n",
    "        Patch(facecolor='gold', edgecolor='black', label='Model Signal Only')\n",
    "    ]\n",
    "    #ax.legend(handles=legend_elements, loc='upper left', fontsize=24)\n",
    "    \n",
    "    #ax.set_title(title, fontsize=28, pad=20)\n",
    "    ax.axis('off')\n",
    "    \n",
    "    return fig, ax\n",
    "\n",
    "def plot_no_311_map(\n",
    "    analysis_df,\n",
    "    estimate='at_least_one_positive_image_by_area',\n",
    "    figsize=(25, 25),\n",
    "    title='Tracts with Model Signal but No 311 Reports'\n",
    "):\n",
    "    \"\"\"\n",
    "    Map showing tracts with signal from estimate column but no 311 reports\n",
    "    \"\"\"\n",
    "    fig, ax = plt.subplots(figsize=figsize)\n",
    "    \n",
    "    # Isolate tracts with model signal but no 311\n",
    "    target_tracts = analysis_df[\n",
    "        (analysis_df[estimate] > ESTIMATE_THRES) & \n",
    "        (analysis_df['any_311_report'] == 0)\n",
    "    ]\n",
    "    \n",
    "    # Plot base map in light grey\n",
    "    analysis_df.plot(ax=ax, color='lightgrey', edgecolor='white', linewidth=0.5, zorder=1)\n",
    "    \n",
    "    # Plot target tracts in highlight color\n",
    "    target_tracts.plot(ax=ax, color='purple', edgecolor='black', linewidth=1, zorder=2)\n",
    "    \n",
    "    # Add nybb boundary\n",
    "    nybb.boundary.plot(ax=ax, color='black', linewidth=2, zorder=3)\n",
    "    \n",
    "    # Add legend\n",
    "    legend_elements = [\n",
    "        Patch(facecolor='purple', edgecolor='black', label='Model Signal without 311 Reports')\n",
    "    ]\n",
    "    #ax.legend(handles=legend_elements, loc='upper left', fontsize=24)\n",
    "    \n",
    "    #ax.set_title(title, fontsize=28, pad=20)\n",
    "    ax.axis('off')\n",
    "    \n",
    "    return fig, ax\n",
    "\n",
    "def plot_no_floodnet_map(\n",
    "    analysis_df,\n",
    "    estimate='at_least_one_positive_image_by_area',\n",
    "    figsize=(25, 25),\n",
    "    title='Tracts with Model Signal but No Floodnet Signal'\n",
    "):\n",
    "    \"\"\"\n",
    "    Map showing tracts with signal from estimate column but no Floodnet signal\n",
    "    \"\"\"\n",
    "    fig, ax = plt.subplots(figsize=figsize)\n",
    "    \n",
    "    # Isolate tracts with model signal but no floodnet\n",
    "    target_tracts = analysis_df[\n",
    "        (analysis_df[estimate] > ESTIMATE_THRES) & \n",
    "        (analysis_df['any_sensors'] == 0)\n",
    "    ]\n",
    "    \n",
    "    # Plot base map in light grey\n",
    "    analysis_df.plot(ax=ax, color='lightgrey', edgecolor='white', linewidth=0.5, zorder=1)\n",
    "    \n",
    "    # Plot target tracts in highlight color\n",
    "    target_tracts.plot(ax=ax, color='darkgreen', edgecolor='black', linewidth=1, zorder=2)\n",
    "    \n",
    "    # Add nybb boundary\n",
    "    nybb.boundary.plot(ax=ax, color='black', linewidth=2, zorder=3)\n",
    "    \n",
    "    # Add legend\n",
    "    legend_elements = [\n",
    "        Patch(facecolor='darkgreen', edgecolor='black', label='Model Signal without Floodnet')\n",
    "    ]\n",
    "    #ax.legend(handles=legend_elements, loc='upper left', fontsize=24)\n",
    "    \n",
    "    #ax.set_title(title, fontsize=28, pad=20)\n",
    "    ax.axis('off')\n",
    "    \n",
    "    return fig, ax\n",
    "\n",
    "def plot_no_dep_map(\n",
    "    analysis_df,\n",
    "    estimate='at_least_one_positive_image_by_area',\n",
    "    figsize=(25, 25),\n",
    "    title='Tracts with Model Signal but No DEP Predicted Stormwater'\n",
    "):\n",
    "    \"\"\"\n",
    "    Map showing tracts with signal from estimate column but no DEP stormwater prediction\n",
    "    \"\"\"\n",
    "    fig, ax = plt.subplots(figsize=figsize)\n",
    "    \n",
    "    # Isolate tracts with model signal but no dep prediction\n",
    "    target_tracts = analysis_df[\n",
    "        (analysis_df[estimate] > ESTIMATE_THRES) & \n",
    "        (analysis_df['no_dep_flooding'] == 1)\n",
    "    ]\n",
    "    \n",
    "    # Plot base map in light grey\n",
    "    analysis_df.plot(ax=ax, color='lightgrey', edgecolor='white', linewidth=0.5, zorder=1)\n",
    "    \n",
    "    # Plot target tracts in highlight color\n",
    "    target_tracts.plot(ax=ax, color='darkred', edgecolor='black', linewidth=1, zorder=2)\n",
    "    \n",
    "    # Add nybb boundary\n",
    "    nybb.boundary.plot(ax=ax, color='black', linewidth=2, zorder=3)\n",
    "    \n",
    "    # Add legend\n",
    "    legend_elements = [\n",
    "        Patch(facecolor='darkred', edgecolor='black', label='Model Signal without DEP Prediction')\n",
    "    ]\n",
    "    #ax.legend(handles=legend_elements, loc='upper left', fontsize=24)\n",
    "    \n",
    "    #ax.set_title(title, fontsize=28, pad=20)\n",
    "    ax.axis('off')\n",
    "    \n",
    "    return fig, ax\n",
    "\n",
    "# Function to create all four maps\n",
    "def create_all_maps(analysis_df, estimate='p_y', figsize=(25, 25)):\n",
    "    \"\"\"\n",
    "    Creates all four maps showing different isolation scenarios\n",
    "    \"\"\"\n",
    "    maps = {\n",
    "        'isolated_signal': plot_isolated_signal_map(analysis_df, estimate, figsize),\n",
    "        'no_311': plot_no_311_map(analysis_df, estimate, figsize),\n",
    "        'no_floodnet': plot_no_floodnet_map(analysis_df, estimate, figsize),\n",
    "        'no_dep': plot_no_dep_map(analysis_df, estimate, figsize)\n",
    "    }\n",
    "    return maps"
   ]
  },
  {
   "cell_type": "code",
   "execution_count": 7,
   "metadata": {},
   "outputs": [
    {
     "name": "stderr",
     "output_type": "stream",
     "text": [
      "\u001b[34m2025-02-05 16:24:30 - generate-flood-risk-coverage-maps - INFO - Saved isolated_signal map to /share/ju/matt/street-flooding/paper/figures/map_model_isolated_signal.png.\u001b[0m\n",
      "\u001b[34m2025-02-05 16:24:30 - generate-flood-risk-coverage-maps - INFO - Saved no_311 map to /share/ju/matt/street-flooding/paper/figures/map_model_no_311.png.\u001b[0m\n",
      "\u001b[34m2025-02-05 16:24:30 - generate-flood-risk-coverage-maps - INFO - Saved no_floodnet map to /share/ju/matt/street-flooding/paper/figures/map_model_no_floodnet.png.\u001b[0m\n",
      "\u001b[34m2025-02-05 16:24:30 - generate-flood-risk-coverage-maps - INFO - Saved no_dep map to /share/ju/matt/street-flooding/paper/figures/map_model_no_dep.png.\u001b[0m\n"
     ]
    }
   ],
   "source": [
    "# save each map to paper dir / figures \n",
    "for name, (fig, ax) in create_all_maps(analysis_df, estimate='p_y', figsize=(6, 6)).items():\n",
    "    fig.savefig(f\"{c.PAPER_PATH}/figures/{name}.png\", dpi=150, bbox_inches='tight', pad_inches=0.025)\n",
    "    log.info(f\"Saved {name} map to /share/ju/matt/street-flooding/paper/figures/map_model_{name}.png.\")\n",
    "    plt.close(fig)"
   ]
  },
  {
   "cell_type": "code",
   "execution_count": null,
   "metadata": {},
   "outputs": [],
   "source": []
  }
 ],
 "metadata": {
  "kernelspec": {
   "display_name": "Python 3",
   "language": "python",
   "name": "python3"
  },
  "language_info": {
   "codemirror_mode": {
    "name": "ipython",
    "version": 3
   },
   "file_extension": ".py",
   "mimetype": "text/x-python",
   "name": "python",
   "nbconvert_exporter": "python",
   "pygments_lexer": "ipython3",
   "version": "3.11.9"
  }
 },
 "nbformat": 4,
 "nbformat_minor": 2
}
