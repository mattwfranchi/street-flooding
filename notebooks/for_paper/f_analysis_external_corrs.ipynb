{
 "cells": [
  {
   "cell_type": "code",
   "execution_count": 7,
   "metadata": {},
   "outputs": [],
   "source": [
    "import pandas as pd\n",
    "from scipy.stats import pearsonr, spearmanr\n",
    "import seaborn as sns\n",
    "import matplotlib.pyplot as plt\n",
    "from scipy.stats import mannwhitneyu "
   ]
  },
  {
   "cell_type": "code",
   "execution_count": 8,
   "metadata": {},
   "outputs": [
    {
     "name": "stderr",
     "output_type": "stream",
     "text": [
      "\u001b[34m2025-03-11 12:47:24 - analysis-helpers - INFO - Enabling LaTeX for matplotlib.\u001b[0m\n"
     ]
    }
   ],
   "source": [
    "import constants as c\n",
    "import helpers as h \n",
    "h.latex(True)"
   ]
  },
  {
   "cell_type": "code",
   "execution_count": 9,
   "metadata": {},
   "outputs": [
    {
     "name": "stderr",
     "output_type": "stream",
     "text": [
      "\u001b[34m2025-03-11 12:47:24 - analysis-helpers - INFO - Found 192 tracts with at least one FloodNet sensor.\u001b[0m\n",
      "\u001b[34m2025-03-11 12:47:24 - analysis-helpers - INFO - Found 2171 311 requests.\u001b[0m\n",
      "\u001b[34m2025-03-11 12:47:24 - analysis-helpers - INFO - Found 878 tracts with at least one 311 report.\u001b[0m\n",
      "\u001b[34m2025-03-11 12:47:24 - analysis-helpers - INFO - Found 1001 tracts with no DEP flooding.\u001b[0m\n",
      "\u001b[34m2025-03-11 12:47:24 - analysis-helpers - INFO - Found 176 tracts with confirmed flooding.\u001b[0m\n",
      "\u001b[34m2025-03-11 12:47:24 - analysis-helpers - INFO - Found 269 tracts with above threshold (0.007261037923233075) flooding.\u001b[0m\n",
      "\u001b[34m2025-03-11 12:47:24 - analysis-helpers - INFO - Found 313 tracts with confirmed or above threshold flooding.\u001b[0m\n"
     ]
    }
   ],
   "source": [
    "d = pd.read_csv(c.CURRENT_NO_COVARIATES_DF)\n",
    "d = h.add_covariate_cols(d)\n",
    "d = h.add_estimate_cols(d)\n",
    "\n",
    "EST_TO_USE = c.ESTIMATE_TO_USE \n"
   ]
  },
  {
   "cell_type": "code",
   "execution_count": 10,
   "metadata": {},
   "outputs": [],
   "source": [
    "d = d[['p_y', EST_TO_USE, 'any_311_report', 'any_sensors',\n",
    "       'ft_elevation_min', 'ft_elevation_mean', 'ft_elevation_max', 'dep_moderate_1_frac', 'dep_moderate_2_frac']]\n",
    "\n"
   ]
  },
  {
   "cell_type": "code",
   "execution_count": 11,
   "metadata": {},
   "outputs": [],
   "source": [
    "row_mapping = {\n",
    "    'any_311_report': 'Any 311 Report in tract?',\n",
    "    'n_311_reports': '\\# of 311 Reports in tract',\n",
    "    'any_sensors': 'Any FloodNet sensors in tract?',\n",
    "    'n_floodnet_sensors': '\\# of FloodNet sensors in tract',\n",
    "    'dep_moderate_1_frac': r'Frac. DEP Shallow Flooding [${ft}^2$]',\n",
    "    'dep_moderate_2_frac': r'Frac. DEP Deep Flooding [${ft}^2$]',\n",
    "    'ft_elevation_min': 'Minimum elevation in tract [ft]',\n",
    "    'ft_elevation_mean': 'Mean elevation in tract[ft]',\n",
    "    'ft_elevation_max': 'Maximum elevation in tract [ft]'\n",
    "}"
   ]
  },
  {
   "cell_type": "code",
   "execution_count": 12,
   "metadata": {},
   "outputs": [
    {
     "name": "stdout",
     "output_type": "stream",
     "text": [
      "any_311_report 1.356553927509089\n",
      "any_sensors 2.0252965118823583\n",
      "ft_elevation_min 0.5072903593884568\n",
      "ft_elevation_mean 0.6955531225341601\n",
      "ft_elevation_max 0.8424402190610134\n",
      "dep_moderate_1_frac 1.3195909489951239\n",
      "dep_moderate_2_frac 1.2166522314763237\n"
     ]
    },
    {
     "data": {
      "image/png": "[encoded data removed]",
      "text/plain": [
       "<Figure size 400x700 with 7 Axes>"
      ]
     },
     "metadata": {},
     "output_type": "display_data"
    }
   ],
   "source": [
    "d['high_flood_risk'] = d[EST_TO_USE]\n",
    "# drop EST_TO_USE \n",
    "d = d.drop(EST_TO_USE, axis=1)\n",
    "plot_num = 0\n",
    "fig = plt.figure(figsize=[4, 7])\n",
    "\n",
    "legend_handles = []\n",
    "legend_labels = []\n",
    "\n",
    "for k in d.columns:\n",
    "    if 'p_y' not in k and 'high_flood_risk' not in k:\n",
    "        plot_num += 1\n",
    "        ax = plt.subplot(10, 1, plot_num)\n",
    "        means_by_bin = d.groupby('high_flood_risk')[k].mean()\n",
    "        stds_by_bin = d.groupby('high_flood_risk')[k].std()\n",
    "        bin_sizes = d.groupby('high_flood_risk').size()\n",
    "        assert list(means_by_bin.index) == [0, 1]\n",
    "        \n",
    "        # print the ratio of the means for each feature\n",
    "        print(k, means_by_bin.iloc[1] / means_by_bin.iloc[0])\n",
    "        \n",
    "        if plot_num == 1:\n",
    "            high_risk = plt.errorbar(means_by_bin.iloc[1],\n",
    "                            0.75, \n",
    "                            xerr=1.96 * stds_by_bin.iloc[1] / (bin_sizes.iloc[1]**0.5), \n",
    "                            color='red', \n",
    "                            fmt='o', \n",
    "                            label='High flood risk')\n",
    "            other_tracts = plt.errorbar(means_by_bin.iloc[0], \n",
    "                            0.25, \n",
    "                            xerr=1.96 * stds_by_bin.iloc[0] / (bin_sizes.iloc[0]**0.5), \n",
    "                            color='black', \n",
    "                            fmt='o', \n",
    "                            label='Other tracts')\n",
    "            legend_handles = [high_risk, other_tracts]\n",
    "            legend_labels = ['High flood risk', 'Other tracts']\n",
    "        else:\n",
    "            plt.errorbar(means_by_bin.iloc[1],\n",
    "                        0.75, \n",
    "                        xerr=1.96 * stds_by_bin.iloc[1] / (bin_sizes.iloc[1]**0.5), \n",
    "                        color='red', \n",
    "                        fmt='o')\n",
    "            plt.errorbar(means_by_bin.iloc[0], \n",
    "                        0.25, \n",
    "                        xerr=1.96 * stds_by_bin.iloc[0] / (bin_sizes.iloc[0]**0.5), \n",
    "                        color='black', \n",
    "                        fmt='o')\n",
    "\n",
    "        p_val = mannwhitneyu(d.loc[d['high_flood_risk'] == 1, k], \n",
    "                             d.loc[d['high_flood_risk'] == 0, k])[1]\n",
    "        plt.ylim([-0.25, 1.25])\n",
    "\n",
    "        \n",
    "       \n",
    "        \n",
    "        plt.title(row_mapping[k], fontsize=8, pad=4)\n",
    "        \n",
    "        # Add p-value with stars to the right side\n",
    "        stars = ''\n",
    "        if p_val < 0.001:\n",
    "            stars = '***'\n",
    "        elif p_val < 0.01:\n",
    "            stars = '**'\n",
    "        elif p_val < 0.05:\n",
    "            stars = '*'\n",
    "            \n",
    "        #ax.text(1.02, 1.2, f'p = {p_val:.1e}{stars}', \n",
    "        #        transform=ax.transAxes,\n",
    "        #        fontsize=8,\n",
    "        #        horizontalalignment='right',\n",
    "        #        verticalalignment='center')\n",
    "        \n",
    "        plt.yticks([])\n",
    "        # set x ticks font size \n",
    "        plt.xticks(fontsize=7)\n",
    "\n",
    "plt.tight_layout()\n",
    "\n",
    "fig.legend(legend_handles, legend_labels, \n",
    "          loc='upper right', \n",
    "          bbox_to_anchor=(0.9, 1.07), fontsize=8)\n",
    "\n",
    "plt.subplots_adjust(right=0.85, hspace=1.5)\n",
    "\n",
    "plt.savefig(f'{c.PAPER_PATH}/figures/external_corrs_vs_risk.pdf', dpi=200, bbox_inches='tight', pad_inches=0.025)"
   ]
  },
  {
   "cell_type": "code",
   "execution_count": 13,
   "metadata": {},
   "outputs": [
    {
     "name": "stdout",
     "output_type": "stream",
     "text": [
      "any_311_report SignificanceResult(statistic=0.0904565226086256, pvalue=1.2523606762935935e-05)\n",
      "any_311_report PearsonRResult(statistic=0.09045652260862552, pvalue=1.252360676293576e-05)\n",
      "any_sensors SignificanceResult(statistic=0.09226021751369959, pvalue=8.36043056971869e-06)\n",
      "any_sensors PearsonRResult(statistic=0.09226021751369959, pvalue=8.360430569718817e-06)\n",
      "ft_elevation_min SignificanceResult(statistic=-0.2501005117857089, pvalue=1.720239575708508e-34)\n",
      "ft_elevation_min PearsonRResult(statistic=-0.17373651256799466, pvalue=3.255733241127267e-17)\n",
      "ft_elevation_mean SignificanceResult(statistic=-0.21936978736723325, pvalue=9.90045966561945e-27)\n",
      "ft_elevation_mean PearsonRResult(statistic=-0.14609932859092983, pvalue=1.4532406934179815e-12)\n",
      "ft_elevation_max SignificanceResult(statistic=-0.1377671138346859, pvalue=2.538070862715172e-11)\n",
      "ft_elevation_max PearsonRResult(statistic=-0.08162714922627846, pvalue=8.135307753451317e-05)\n",
      "dep_moderate_1_frac SignificanceResult(statistic=0.07392536614265273, pvalue=0.0003603797045963031)\n",
      "dep_moderate_1_frac PearsonRResult(statistic=0.06095533744236519, pvalue=0.0032788017745390956)\n",
      "dep_moderate_2_frac SignificanceResult(statistic=0.07101024144092823, pvalue=0.0006114711281840452)\n",
      "dep_moderate_2_frac PearsonRResult(statistic=0.037793803545672106, pvalue=0.06845162691682373)\n"
     ]
    }
   ],
   "source": [
    "# what is the pearson between high flood risk and each of the features?\n",
    "for k in d.columns:\n",
    "    if 'p_y' not in k and 'high_flood_risk' not in k:\n",
    "        print(k, spearmanr(d['high_flood_risk'], d[k]))\n",
    "        print(k, pearsonr(d['high_flood_risk'], d[k]))"
   ]
  },
  {
   "cell_type": "code",
   "execution_count": null,
   "metadata": {},
   "outputs": [],
   "source": []
  }
 ],
 "metadata": {
  "kernelspec": {
   "display_name": "Python 3",
   "language": "python",
   "name": "python3"
  },
  "language_info": {
   "codemirror_mode": {
    "name": "ipython",
    "version": 3
   },
   "file_extension": ".py",
   "mimetype": "text/x-python",
   "name": "python",
   "nbconvert_exporter": "python",
   "pygments_lexer": "ipython3",
   "version": "3.11.9"
  }
 },
 "nbformat": 4,
 "nbformat_minor": 2
}
