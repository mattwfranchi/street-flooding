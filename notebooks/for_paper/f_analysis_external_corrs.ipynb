{
 "cells": [
  {
   "cell_type": "code",
   "execution_count": 39,
   "metadata": {},
   "outputs": [],
   "source": [
    "import pandas as pd\n",
    "from scipy.stats import pearsonr, spearmanr\n",
    "import seaborn as sns\n",
    "import matplotlib.pyplot as plt\n",
    "from scipy.stats import mannwhitneyu "
   ]
  },
  {
   "cell_type": "code",
   "execution_count": 40,
   "metadata": {},
   "outputs": [
    {
     "name": "stderr",
     "output_type": "stream",
     "text": [
      "\u001b[34m2025-02-07 20:57:41 - analysis-helpers - INFO - Enabling LaTeX for matplotlib.\u001b[0m\n"
     ]
    }
   ],
   "source": [
    "import constants as c\n",
    "import helpers as h \n",
    "h.latex(True)"
   ]
  },
  {
   "cell_type": "code",
   "execution_count": 41,
   "metadata": {},
   "outputs": [
    {
     "name": "stderr",
     "output_type": "stream",
     "text": [
      "\u001b[34m2025-02-07 20:57:41 - analysis-helpers - INFO - Found 192 tracts with at least one FloodNet sensor.\u001b[0m\n",
      "\u001b[34m2025-02-07 20:57:41 - analysis-helpers - INFO - Found 2171 311 requests.\u001b[0m\n",
      "\u001b[34m2025-02-07 20:57:41 - analysis-helpers - INFO - Found 878 tracts with at least one 311 report.\u001b[0m\n",
      "\u001b[34m2025-02-07 20:57:41 - analysis-helpers - INFO - Found 1001 tracts with no DEP flooding.\u001b[0m\n"
     ]
    }
   ],
   "source": [
    "d = pd.read_csv(c.CURRENT_NO_COVARIATES_DF)\n",
    "d = h.add_helper_cols(d)"
   ]
  },
  {
   "cell_type": "code",
   "execution_count": 42,
   "metadata": {},
   "outputs": [
    {
     "name": "stdout",
     "output_type": "stream",
     "text": [
      "High flood risk cutoff: 0.007261037923233075\n"
     ]
    }
   ],
   "source": [
    "high_flood_risk_cutoff = d[d['at_least_one_positive_image_by_area'] == 1]['p_y'].quantile(0.25)\n",
    "print('High flood risk cutoff:', high_flood_risk_cutoff)"
   ]
  },
  {
   "cell_type": "code",
   "execution_count": 43,
   "metadata": {},
   "outputs": [],
   "source": [
    "d = d[['p_y', 'any_311_report', 'any_sensors',\n",
    "       'ft_elevation_min', 'ft_elevation_mean', 'ft_elevation_max', 'dep_moderate_1_frac', 'dep_moderate_2_frac']]\n",
    "\n"
   ]
  },
  {
   "cell_type": "code",
   "execution_count": 44,
   "metadata": {},
   "outputs": [],
   "source": [
    "row_mapping = {\n",
    "    'any_311_report': 'Any 311 Report in tract?',\n",
    "    'n_311_reports': '\\# of 311 Reports in tract',\n",
    "    'any_sensors': 'Any FloodNet sensors in tract?',\n",
    "    'n_floodnet_sensors': '\\# of FloodNet sensors in tract',\n",
    "    'dep_moderate_1_frac': r'Frac. DEP Shallow Flooding [${ft}^2$]',\n",
    "    'dep_moderate_2_frac': r'Frac. DEP Deep Flooding [${ft}^2$]',\n",
    "    'ft_elevation_min': 'Minimum elevation in tract [ft]',\n",
    "    'ft_elevation_mean': 'Mean elevation in tract[ft]',\n",
    "    'ft_elevation_max': 'Maximum elevation in tract [ft]'\n",
    "}"
   ]
  },
  {
   "cell_type": "code",
   "execution_count": 48,
   "metadata": {},
   "outputs": [
    {
     "name": "stdout",
     "output_type": "stream",
     "text": [
      "any_311_report 1.4253390937405808\n",
      "any_sensors 2.0752849651640854\n",
      "ft_elevation_min 0.5372796984927742\n",
      "ft_elevation_mean 0.7019832740767855\n",
      "ft_elevation_max 0.830473447523692\n",
      "dep_moderate_1_frac 1.393892502809781\n",
      "dep_moderate_2_frac 1.2645879329068612\n"
     ]
    },
    {
     "data": {
      "image/png": "[encoded data removed]",
      "text/plain": [
       "<Figure size 400x800 with 7 Axes>"
      ]
     },
     "metadata": {},
     "output_type": "display_data"
    }
   ],
   "source": [
    "d['high_flood_risk'] = (d['p_y'] > high_flood_risk_cutoff) * 1.\n",
    "plot_num = 0\n",
    "fig = plt.figure(figsize=[4, 8])\n",
    "\n",
    "legend_handles = []\n",
    "legend_labels = []\n",
    "\n",
    "for k in d.columns:\n",
    "    if 'p_y' not in k and 'high_flood_risk' not in k:\n",
    "        plot_num += 1\n",
    "        ax = plt.subplot(10, 1, plot_num)\n",
    "        means_by_bin = d.groupby('high_flood_risk')[k].mean()\n",
    "        stds_by_bin = d.groupby('high_flood_risk')[k].std()\n",
    "        bin_sizes = d.groupby('high_flood_risk').size()\n",
    "        assert list(means_by_bin.index) == [0, 1]\n",
    "        \n",
    "        # print the ratio of the means for each feature\n",
    "        print(k, means_by_bin.iloc[1] / means_by_bin.iloc[0])\n",
    "        \n",
    "        if plot_num == 1:\n",
    "            high_risk = plt.errorbar(means_by_bin.iloc[1],\n",
    "                            1, \n",
    "                            xerr=1.96 * stds_by_bin.iloc[1] / (bin_sizes.iloc[1]**0.5), \n",
    "                            color='red', \n",
    "                            fmt='o', \n",
    "                            label='High flood risk')\n",
    "            other_tracts = plt.errorbar(means_by_bin.iloc[0], \n",
    "                            0, \n",
    "                            xerr=1.96 * stds_by_bin.iloc[0] / (bin_sizes.iloc[0]**0.5), \n",
    "                            color='black', \n",
    "                            fmt='o', \n",
    "                            label='Other tracts')\n",
    "            legend_handles = [high_risk, other_tracts]\n",
    "            legend_labels = ['High flood risk', 'Other tracts']\n",
    "        else:\n",
    "            plt.errorbar(means_by_bin.iloc[1],\n",
    "                        1, \n",
    "                        xerr=1.96 * stds_by_bin.iloc[1] / (bin_sizes.iloc[1]**0.5), \n",
    "                        color='red', \n",
    "                        fmt='o')\n",
    "            plt.errorbar(means_by_bin.iloc[0], \n",
    "                        0, \n",
    "                        xerr=1.96 * stds_by_bin.iloc[0] / (bin_sizes.iloc[0]**0.5), \n",
    "                        color='black', \n",
    "                        fmt='o')\n",
    "\n",
    "        p_val = mannwhitneyu(d.loc[d['high_flood_risk'] == 1, k], \n",
    "                             d.loc[d['high_flood_risk'] == 0, k])[1]\n",
    "        plt.ylim([-0.5, 1.5])\n",
    "\n",
    "        \n",
    "       \n",
    "        \n",
    "        plt.title(row_mapping[k], fontsize=8, pad=4)\n",
    "        \n",
    "        # Add p-value with stars to the right side\n",
    "        stars = ''\n",
    "        if p_val < 0.001:\n",
    "            stars = '***'\n",
    "        elif p_val < 0.01:\n",
    "            stars = '**'\n",
    "        elif p_val < 0.05:\n",
    "            stars = '*'\n",
    "            \n",
    "        #ax.text(1.02, 1.2, f'p = {p_val:.1e}{stars}', \n",
    "        #        transform=ax.transAxes,\n",
    "        #        fontsize=8,\n",
    "        #        horizontalalignment='right',\n",
    "        #        verticalalignment='center')\n",
    "        \n",
    "        plt.yticks([])\n",
    "        # set x ticks font size \n",
    "        plt.xticks(fontsize=7)\n",
    "\n",
    "plt.tight_layout()\n",
    "\n",
    "fig.legend(legend_handles, legend_labels, \n",
    "          loc='upper right', \n",
    "          bbox_to_anchor=(0.9, 1.07), fontsize=8)\n",
    "\n",
    "plt.subplots_adjust(right=0.85, hspace=1.5)\n",
    "\n",
    "plt.savefig(f'{c.PAPER_PATH}/figures/external_corrs_vs_risk.pdf', dpi=200, bbox_inches='tight', pad_inches=0.025)"
   ]
  },
  {
   "cell_type": "code",
   "execution_count": null,
   "metadata": {},
   "outputs": [],
   "source": []
  }
 ],
 "metadata": {
  "kernelspec": {
   "display_name": "Python 3",
   "language": "python",
   "name": "python3"
  },
  "language_info": {
   "codemirror_mode": {
    "name": "ipython",
    "version": 3
   },
   "file_extension": ".py",
   "mimetype": "text/x-python",
   "name": "python",
   "nbconvert_exporter": "python",
   "pygments_lexer": "ipython3",
   "version": "3.11.9"
  }
 },
 "nbformat": 4,
 "nbformat_minor": 2
}
