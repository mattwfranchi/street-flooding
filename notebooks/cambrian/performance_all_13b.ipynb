{
 "cells": [
  {
   "cell_type": "code",
   "execution_count": 15,
   "metadata": {},
   "outputs": [],
   "source": [
    "import pandas as pd \n",
    "#from textblob import TextBlob\n",
    "#from textblob.sentiments import NaiveBayesAnalyzer\n",
    "\n",
    "from tqdm import tqdm \n",
    "tqdm.pandas()\n",
    "import os "
   ]
  },
  {
   "cell_type": "code",
   "execution_count": 16,
   "metadata": {},
   "outputs": [],
   "source": [
    "df = pd.concat([pd.read_csv(f'13b/entire_sep29_{i}.csv') for i in [0, 1, 2, 3, 4, 5, 'extras']])"
   ]
  },
  {
   "cell_type": "code",
   "execution_count": 17,
   "metadata": {},
   "outputs": [],
   "source": [
    "# replace image path parent dir with /share/ju/nexar_data/training_datasets/street_flooding/all_no_letterboxing \n",
    "df['image_path'] = df['image_path'].apply(lambda x: os.path.join('/share/ju/nexar_data/training_datasets/street_flooding/all_no_letterboxing', x.split('/')[-1]))"
   ]
  },
  {
   "cell_type": "code",
   "execution_count": 18,
   "metadata": {},
   "outputs": [
    {
     "data": {
      "text/plain": [
       "Index(['Unnamed: 0', 'image_path', 'q1', 'q2', 'response_1', 'response_2',\n",
       "       'Unnamed: 0.1'],\n",
       "      dtype='object')"
      ]
     },
     "execution_count": 18,
     "metadata": {},
     "output_type": "execute_result"
    }
   ],
   "source": [
    "df.columns"
   ]
  },
  {
   "cell_type": "code",
   "execution_count": 19,
   "metadata": {},
   "outputs": [],
   "source": [
    "def get_sentiment(text):\n",
    "    blob = TextBlob(text, analyzer=NaiveBayesAnalyzer())\n",
    "    return blob.sentiment[0]\n"
   ]
  },
  {
   "cell_type": "code",
   "execution_count": 20,
   "metadata": {},
   "outputs": [],
   "source": [
    "def quick_sentiment(text):\n",
    "    # if first word is yes, 1\n",
    "    # if first word is no, 0\n",
    "    # else, 0.5\n",
    "    text = str(text).lower()\n",
    "    # strip lspace\n",
    "    text = text.lstrip()\n",
    "    if text.startswith('yes'):\n",
    "        return 1\n",
    "    elif text.startswith('no'):\n",
    "        return 0\n",
    "    else:\n",
    "        return 0"
   ]
  },
  {
   "cell_type": "code",
   "execution_count": 21,
   "metadata": {},
   "outputs": [
    {
     "name": "stderr",
     "output_type": "stream",
     "text": [
      "100%|██████████| 926618/926618 [00:00<00:00, 1580040.63it/s]\n",
      "100%|██████████| 926618/926618 [00:00<00:00, 1559338.69it/s]\n"
     ]
    }
   ],
   "source": [
    "for i in range(1,3):\n",
    "    df[f'sentiment_{i}'] = df[f'response_{i}'].progress_apply(quick_sentiment)"
   ]
  },
  {
   "cell_type": "code",
   "execution_count": 22,
   "metadata": {},
   "outputs": [],
   "source": [
    "df.dropna(subset=['response_1'], inplace=True)\n",
    "df.drop(columns=['Unnamed: 0'], inplace=True)"
   ]
  },
  {
   "cell_type": "code",
   "execution_count": 23,
   "metadata": {},
   "outputs": [
    {
     "name": "stdout",
     "output_type": "stream",
     "text": [
      "<class 'pandas.core.frame.DataFrame'>\n",
      "Index: 926212 entries, 0 to 405\n",
      "Data columns (total 8 columns):\n",
      " #   Column        Non-Null Count   Dtype  \n",
      "---  ------        --------------   -----  \n",
      " 0   image_path    926212 non-null  object \n",
      " 1   q1            926212 non-null  object \n",
      " 2   q2            926212 non-null  object \n",
      " 3   response_1    926212 non-null  object \n",
      " 4   response_2    926212 non-null  object \n",
      " 5   Unnamed: 0.1  406 non-null     float64\n",
      " 6   sentiment_1   926212 non-null  int64  \n",
      " 7   sentiment_2   926212 non-null  int64  \n",
      "dtypes: float64(1), int64(2), object(5)\n",
      "memory usage: 63.6+ MB\n"
     ]
    }
   ],
   "source": [
    "df.info()"
   ]
  },
  {
   "cell_type": "code",
   "execution_count": 24,
   "metadata": {},
   "outputs": [
    {
     "data": {
      "text/plain": [
       "sentiment_1\n",
       "0    924747\n",
       "1      1465\n",
       "Name: count, dtype: int64"
      ]
     },
     "execution_count": 24,
     "metadata": {},
     "output_type": "execute_result"
    }
   ],
   "source": [
    "df['sentiment_1'].value_counts()"
   ]
  },
  {
   "cell_type": "code",
   "execution_count": 25,
   "metadata": {},
   "outputs": [
    {
     "data": {
      "text/plain": [
       "sentiment_2\n",
       "0    790669\n",
       "1    135543\n",
       "Name: count, dtype: int64"
      ]
     },
     "execution_count": 25,
     "metadata": {},
     "output_type": "execute_result"
    }
   ],
   "source": [
    "df['sentiment_2'].value_counts()"
   ]
  },
  {
   "cell_type": "code",
   "execution_count": 26,
   "metadata": {},
   "outputs": [],
   "source": [
    "# copy the sentiment_1 images to DIR \n",
    "DIR = \"./high_conf_images\"\n",
    "os.makedirs(DIR, exist_ok=True)\n",
    "\n",
    "for i, row in df[df['sentiment_1'] == 1].iterrows():\n",
    "    pass\n",
    "    #os.system(f'cp {row[\"image_path\"]} {DIR}/{row[\"image_path\"].split(\"/\")[-1]}')\n"
   ]
  },
  {
   "cell_type": "code",
   "execution_count": 27,
   "metadata": {},
   "outputs": [
    {
     "data": {
      "text/html": [
       "<div>\n",
       "<style scoped>\n",
       "    .dataframe tbody tr th:only-of-type {\n",
       "        vertical-align: middle;\n",
       "    }\n",
       "\n",
       "    .dataframe tbody tr th {\n",
       "        vertical-align: top;\n",
       "    }\n",
       "\n",
       "    .dataframe thead th {\n",
       "        text-align: right;\n",
       "    }\n",
       "</style>\n",
       "<table border=\"1\" class=\"dataframe\">\n",
       "  <thead>\n",
       "    <tr style=\"text-align: right;\">\n",
       "      <th></th>\n",
       "      <th>image_path</th>\n",
       "      <th>q1</th>\n",
       "      <th>q2</th>\n",
       "      <th>response_1</th>\n",
       "      <th>response_2</th>\n",
       "      <th>Unnamed: 0.1</th>\n",
       "      <th>sentiment_1</th>\n",
       "      <th>sentiment_2</th>\n",
       "    </tr>\n",
       "  </thead>\n",
       "  <tbody>\n",
       "    <tr>\n",
       "      <th>0</th>\n",
       "      <td>/share/ju/nexar_data/training_datasets/street_...</td>\n",
       "      <td>Does this image show more than a foot of stand...</td>\n",
       "      <td>Is the street in this image flooded?</td>\n",
       "      <td>No, the image does not show more than a foot o...</td>\n",
       "      <td>No, the street in the image does not appear to...</td>\n",
       "      <td>NaN</td>\n",
       "      <td>0</td>\n",
       "      <td>0</td>\n",
       "    </tr>\n",
       "    <tr>\n",
       "      <th>1</th>\n",
       "      <td>/share/ju/nexar_data/training_datasets/street_...</td>\n",
       "      <td>Does this image show more than a foot of stand...</td>\n",
       "      <td>Is the street in this image flooded?</td>\n",
       "      <td>No, the image does not show more than a foot o...</td>\n",
       "      <td>Yes, the street in the image appears to be flo...</td>\n",
       "      <td>NaN</td>\n",
       "      <td>0</td>\n",
       "      <td>1</td>\n",
       "    </tr>\n",
       "    <tr>\n",
       "      <th>2</th>\n",
       "      <td>/share/ju/nexar_data/training_datasets/street_...</td>\n",
       "      <td>Does this image show more than a foot of stand...</td>\n",
       "      <td>Is the street in this image flooded?</td>\n",
       "      <td>No, the image does not show more than a foot o...</td>\n",
       "      <td>No, the street in the image does not appear to...</td>\n",
       "      <td>NaN</td>\n",
       "      <td>0</td>\n",
       "      <td>0</td>\n",
       "    </tr>\n",
       "    <tr>\n",
       "      <th>3</th>\n",
       "      <td>/share/ju/nexar_data/training_datasets/street_...</td>\n",
       "      <td>Does this image show more than a foot of stand...</td>\n",
       "      <td>Is the street in this image flooded?</td>\n",
       "      <td>No, the image does not show more than a foot o...</td>\n",
       "      <td>No, the street in the image is not flooded. Th...</td>\n",
       "      <td>NaN</td>\n",
       "      <td>0</td>\n",
       "      <td>0</td>\n",
       "    </tr>\n",
       "    <tr>\n",
       "      <th>4</th>\n",
       "      <td>/share/ju/nexar_data/training_datasets/street_...</td>\n",
       "      <td>Does this image show more than a foot of stand...</td>\n",
       "      <td>Is the street in this image flooded?</td>\n",
       "      <td>No, the image does not show more than a foot o...</td>\n",
       "      <td>The street in the image does not appear to be ...</td>\n",
       "      <td>NaN</td>\n",
       "      <td>0</td>\n",
       "      <td>0</td>\n",
       "    </tr>\n",
       "    <tr>\n",
       "      <th>...</th>\n",
       "      <td>...</td>\n",
       "      <td>...</td>\n",
       "      <td>...</td>\n",
       "      <td>...</td>\n",
       "      <td>...</td>\n",
       "      <td>...</td>\n",
       "      <td>...</td>\n",
       "      <td>...</td>\n",
       "    </tr>\n",
       "    <tr>\n",
       "      <th>401</th>\n",
       "      <td>/share/ju/nexar_data/training_datasets/street_...</td>\n",
       "      <td>Does this image show more than a foot of stand...</td>\n",
       "      <td>Is the street in this image flooded?</td>\n",
       "      <td>No, the image does not show more than a foot o...</td>\n",
       "      <td>The street in the image does not appear to be ...</td>\n",
       "      <td>4.0</td>\n",
       "      <td>0</td>\n",
       "      <td>0</td>\n",
       "    </tr>\n",
       "    <tr>\n",
       "      <th>402</th>\n",
       "      <td>/share/ju/nexar_data/training_datasets/street_...</td>\n",
       "      <td>Does this image show more than a foot of stand...</td>\n",
       "      <td>Is the street in this image flooded?</td>\n",
       "      <td>No, the image does not show more than a foot o...</td>\n",
       "      <td>Yes, the street appears to be flooded, as evid...</td>\n",
       "      <td>3.0</td>\n",
       "      <td>0</td>\n",
       "      <td>1</td>\n",
       "    </tr>\n",
       "    <tr>\n",
       "      <th>403</th>\n",
       "      <td>/share/ju/nexar_data/training_datasets/street_...</td>\n",
       "      <td>Does this image show more than a foot of stand...</td>\n",
       "      <td>Is the street in this image flooded?</td>\n",
       "      <td>No, the image does not show more than a foot o...</td>\n",
       "      <td>No, the street in the image does not appear to...</td>\n",
       "      <td>2.0</td>\n",
       "      <td>0</td>\n",
       "      <td>0</td>\n",
       "    </tr>\n",
       "    <tr>\n",
       "      <th>404</th>\n",
       "      <td>/share/ju/nexar_data/training_datasets/street_...</td>\n",
       "      <td>Does this image show more than a foot of stand...</td>\n",
       "      <td>Is the street in this image flooded?</td>\n",
       "      <td>No, the image does not show more than a foot o...</td>\n",
       "      <td>No, the street in the image is not flooded. Th...</td>\n",
       "      <td>1.0</td>\n",
       "      <td>0</td>\n",
       "      <td>0</td>\n",
       "    </tr>\n",
       "    <tr>\n",
       "      <th>405</th>\n",
       "      <td>/share/ju/nexar_data/training_datasets/street_...</td>\n",
       "      <td>Does this image show more than a foot of stand...</td>\n",
       "      <td>Is the street in this image flooded?</td>\n",
       "      <td>No, the image does not show more than a foot o...</td>\n",
       "      <td>Yes, the street appears to be flooded, as evid...</td>\n",
       "      <td>0.0</td>\n",
       "      <td>0</td>\n",
       "      <td>1</td>\n",
       "    </tr>\n",
       "  </tbody>\n",
       "</table>\n",
       "<p>926212 rows × 8 columns</p>\n",
       "</div>"
      ],
      "text/plain": [
       "                                            image_path  \\\n",
       "0    /share/ju/nexar_data/training_datasets/street_...   \n",
       "1    /share/ju/nexar_data/training_datasets/street_...   \n",
       "2    /share/ju/nexar_data/training_datasets/street_...   \n",
       "3    /share/ju/nexar_data/training_datasets/street_...   \n",
       "4    /share/ju/nexar_data/training_datasets/street_...   \n",
       "..                                                 ...   \n",
       "401  /share/ju/nexar_data/training_datasets/street_...   \n",
       "402  /share/ju/nexar_data/training_datasets/street_...   \n",
       "403  /share/ju/nexar_data/training_datasets/street_...   \n",
       "404  /share/ju/nexar_data/training_datasets/street_...   \n",
       "405  /share/ju/nexar_data/training_datasets/street_...   \n",
       "\n",
       "                                                    q1  \\\n",
       "0    Does this image show more than a foot of stand...   \n",
       "1    Does this image show more than a foot of stand...   \n",
       "2    Does this image show more than a foot of stand...   \n",
       "3    Does this image show more than a foot of stand...   \n",
       "4    Does this image show more than a foot of stand...   \n",
       "..                                                 ...   \n",
       "401  Does this image show more than a foot of stand...   \n",
       "402  Does this image show more than a foot of stand...   \n",
       "403  Does this image show more than a foot of stand...   \n",
       "404  Does this image show more than a foot of stand...   \n",
       "405  Does this image show more than a foot of stand...   \n",
       "\n",
       "                                       q2  \\\n",
       "0    Is the street in this image flooded?   \n",
       "1    Is the street in this image flooded?   \n",
       "2    Is the street in this image flooded?   \n",
       "3    Is the street in this image flooded?   \n",
       "4    Is the street in this image flooded?   \n",
       "..                                    ...   \n",
       "401  Is the street in this image flooded?   \n",
       "402  Is the street in this image flooded?   \n",
       "403  Is the street in this image flooded?   \n",
       "404  Is the street in this image flooded?   \n",
       "405  Is the street in this image flooded?   \n",
       "\n",
       "                                            response_1  \\\n",
       "0    No, the image does not show more than a foot o...   \n",
       "1    No, the image does not show more than a foot o...   \n",
       "2    No, the image does not show more than a foot o...   \n",
       "3    No, the image does not show more than a foot o...   \n",
       "4    No, the image does not show more than a foot o...   \n",
       "..                                                 ...   \n",
       "401  No, the image does not show more than a foot o...   \n",
       "402  No, the image does not show more than a foot o...   \n",
       "403  No, the image does not show more than a foot o...   \n",
       "404  No, the image does not show more than a foot o...   \n",
       "405  No, the image does not show more than a foot o...   \n",
       "\n",
       "                                            response_2  Unnamed: 0.1  \\\n",
       "0    No, the street in the image does not appear to...           NaN   \n",
       "1    Yes, the street in the image appears to be flo...           NaN   \n",
       "2    No, the street in the image does not appear to...           NaN   \n",
       "3    No, the street in the image is not flooded. Th...           NaN   \n",
       "4    The street in the image does not appear to be ...           NaN   \n",
       "..                                                 ...           ...   \n",
       "401  The street in the image does not appear to be ...           4.0   \n",
       "402  Yes, the street appears to be flooded, as evid...           3.0   \n",
       "403  No, the street in the image does not appear to...           2.0   \n",
       "404  No, the street in the image is not flooded. Th...           1.0   \n",
       "405  Yes, the street appears to be flooded, as evid...           0.0   \n",
       "\n",
       "     sentiment_1  sentiment_2  \n",
       "0              0            0  \n",
       "1              0            1  \n",
       "2              0            0  \n",
       "3              0            0  \n",
       "4              0            0  \n",
       "..           ...          ...  \n",
       "401            0            0  \n",
       "402            0            1  \n",
       "403            0            0  \n",
       "404            0            0  \n",
       "405            0            1  \n",
       "\n",
       "[926212 rows x 8 columns]"
      ]
     },
     "execution_count": 27,
     "metadata": {},
     "output_type": "execute_result"
    }
   ],
   "source": [
    "df"
   ]
  },
  {
   "cell_type": "code",
   "execution_count": 28,
   "metadata": {},
   "outputs": [],
   "source": [
    "df.to_csv('entire_sep29_all_13b.csv', index=False)"
   ]
  },
  {
   "cell_type": "code",
   "execution_count": null,
   "metadata": {},
   "outputs": [],
   "source": []
  }
 ],
 "metadata": {
  "kernelspec": {
   "display_name": "Python 3",
   "language": "python",
   "name": "python3"
  },
  "language_info": {
   "codemirror_mode": {
    "name": "ipython",
    "version": 3
   },
   "file_extension": ".py",
   "mimetype": "text/x-python",
   "name": "python",
   "nbconvert_exporter": "python",
   "pygments_lexer": "ipython3",
   "version": "3.11.9"
  }
 },
 "nbformat": 4,
 "nbformat_minor": 2
}
